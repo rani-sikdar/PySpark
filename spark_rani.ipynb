{
  "nbformat": 4,
  "nbformat_minor": 0,
  "metadata": {
    "colab": {
      "provenance": [],
      "authorship_tag": "ABX9TyNcng8r+uv03ZsJnvtlcb7C",
      "include_colab_link": true
    },
    "kernelspec": {
      "name": "python3",
      "display_name": "Python 3"
    },
    "language_info": {
      "name": "python"
    }
  },
  "cells": [
    {
      "cell_type": "markdown",
      "metadata": {
        "id": "view-in-github",
        "colab_type": "text"
      },
      "source": [
        "<a href=\"https://colab.research.google.com/github/rani-sikdar/PySpark/blob/main/spark_rani.ipynb\" target=\"_parent\"><img src=\"https://colab.research.google.com/assets/colab-badge.svg\" alt=\"Open In Colab\"/></a>"
      ]
    },
    {
      "cell_type": "code",
      "source": [
        "from pyspark.sql import SparkSession"
      ],
      "metadata": {
        "id": "lu0IDXr99b_p"
      },
      "execution_count": null,
      "outputs": []
    },
    {
      "cell_type": "code",
      "source": [
        "data = [\n",
        "    (1,'sumit', 25),\n",
        "    (2, 'prashant', 26),\n",
        "    (3, 'rani', 27)\n",
        "]\n",
        "\n",
        "columns = ['id', 'name', 'age']"
      ],
      "metadata": {
        "id": "1EkJbOHAAJ6u"
      },
      "execution_count": null,
      "outputs": []
    },
    {
      "cell_type": "code",
      "source": [
        "ss = SparkSession.builder.appName('sparkdf').getOrCreate()\n",
        "# ss.()"
      ],
      "metadata": {
        "id": "ZgUDitMGAJva"
      },
      "execution_count": null,
      "outputs": []
    },
    {
      "cell_type": "code",
      "source": [
        "df = ss.createDataFrame(data, columns)"
      ],
      "metadata": {
        "id": "aMgJgz6AAJsz"
      },
      "execution_count": null,
      "outputs": []
    },
    {
      "cell_type": "code",
      "source": [
        "df.show()"
      ],
      "metadata": {
        "colab": {
          "base_uri": "https://localhost:8080/"
        },
        "id": "IIvc-hUiCAYv",
        "outputId": "718025eb-3777-41ef-872e-7d4242ae6427"
      },
      "execution_count": null,
      "outputs": [
        {
          "output_type": "stream",
          "name": "stdout",
          "text": [
            "+---+--------+---+\n",
            "| id|    name|age|\n",
            "+---+--------+---+\n",
            "|  1|   sumit| 25|\n",
            "|  2|prashant| 26|\n",
            "|  3|    rani| 27|\n",
            "+---+--------+---+\n",
            "\n"
          ]
        }
      ]
    },
    {
      "cell_type": "code",
      "source": [
        "type(df.age > 20)"
      ],
      "metadata": {
        "colab": {
          "base_uri": "https://localhost:8080/",
          "height": 186
        },
        "id": "Bo6dI6dDM2OH",
        "outputId": "9e9ff2ca-efe6-48a9-f82e-f05b0310d4d5"
      },
      "execution_count": null,
      "outputs": [
        {
          "output_type": "execute_result",
          "data": {
            "text/plain": [
              "pyspark.sql.column.Column"
            ],
            "text/html": [
              "<div style=\"max-width:800px; border: 1px solid var(--colab-border-color);\"><style>\n",
              "      pre.function-repr-contents {\n",
              "        overflow-x: auto;\n",
              "        padding: 8px 12px;\n",
              "        max-height: 500px;\n",
              "      }\n",
              "\n",
              "      pre.function-repr-contents.function-repr-contents-collapsed {\n",
              "        cursor: pointer;\n",
              "        max-height: 100px;\n",
              "      }\n",
              "    </style>\n",
              "    <pre style=\"white-space: initial; background:\n",
              "         var(--colab-secondary-surface-color); padding: 8px 12px;\n",
              "         border-bottom: 1px solid var(--colab-border-color);\"><b>pyspark.sql.column.Column</b><br/>def __init__(jc: JavaObject) -&gt; None</pre><pre class=\"function-repr-contents function-repr-contents-collapsed\" style=\"\"><a class=\"filepath\" style=\"display:none\" href=\"#\">/usr/local/lib/python3.12/dist-packages/pyspark/sql/column.py</a>A column in a DataFrame.\n",
              "\n",
              ".. versionadded:: 1.3.0\n",
              "\n",
              ".. versionchanged:: 3.4.0\n",
              "    Supports Spark Connect.\n",
              "\n",
              "Examples\n",
              "--------\n",
              "Column instances can be created by\n",
              "\n",
              "&gt;&gt;&gt; df = spark.createDataFrame(\n",
              "...      [(2, &quot;Alice&quot;), (5, &quot;Bob&quot;)], [&quot;age&quot;, &quot;name&quot;])\n",
              "\n",
              "Select a column out of a DataFrame\n",
              "&gt;&gt;&gt; df.name\n",
              "Column&lt;&#x27;name&#x27;&gt;\n",
              "&gt;&gt;&gt; df[&quot;name&quot;]\n",
              "Column&lt;&#x27;name&#x27;&gt;\n",
              "\n",
              "Create from an expression\n",
              "\n",
              "&gt;&gt;&gt; df.age + 1\n",
              "Column&lt;...&gt;\n",
              "&gt;&gt;&gt; 1 / df.age\n",
              "Column&lt;...&gt;</pre>\n",
              "      <script>\n",
              "      if (google.colab.kernel.accessAllowed && google.colab.files && google.colab.files.view) {\n",
              "        for (const element of document.querySelectorAll('.filepath')) {\n",
              "          element.style.display = 'block'\n",
              "          element.onclick = (event) => {\n",
              "            event.preventDefault();\n",
              "            event.stopPropagation();\n",
              "            google.colab.files.view(element.textContent, 185);\n",
              "          };\n",
              "        }\n",
              "      }\n",
              "      for (const element of document.querySelectorAll('.function-repr-contents')) {\n",
              "        element.onclick = (event) => {\n",
              "          event.preventDefault();\n",
              "          event.stopPropagation();\n",
              "          element.classList.toggle('function-repr-contents-collapsed');\n",
              "        };\n",
              "      }\n",
              "      </script>\n",
              "      </div>"
            ]
          },
          "metadata": {},
          "execution_count": 6
        }
      ]
    },
    {
      "cell_type": "code",
      "source": [
        "#transformation 1  --- map, filter, select, groupBy, join, withColumn\n",
        "\n",
        "filter_df = df.filter(df.age > 25)\n",
        "filter_df.show()"
      ],
      "metadata": {
        "id": "SKms_JhhRjsw",
        "colab": {
          "base_uri": "https://localhost:8080/"
        },
        "outputId": "5eac562b-fba9-4776-8a24-f04d9a9fc536"
      },
      "execution_count": null,
      "outputs": [
        {
          "output_type": "stream",
          "name": "stdout",
          "text": [
            "+---+--------+---+\n",
            "| id|    name|age|\n",
            "+---+--------+---+\n",
            "|  2|prashant| 26|\n",
            "|  3|    rani| 27|\n",
            "+---+--------+---+\n",
            "\n"
          ]
        }
      ]
    },
    {
      "cell_type": "code",
      "source": [
        "# transformation 2\n",
        "\n",
        "res = filter_df.select(\"name\", \"age\")\n",
        "res.show() # action"
      ],
      "metadata": {
        "id": "gMykmpCLRjp_",
        "colab": {
          "base_uri": "https://localhost:8080/"
        },
        "outputId": "f14eef9a-a404-4959-992f-ea682346d87a"
      },
      "execution_count": null,
      "outputs": [
        {
          "output_type": "stream",
          "name": "stdout",
          "text": [
            "+--------+---+\n",
            "|    name|age|\n",
            "+--------+---+\n",
            "|prashant| 26|\n",
            "|    rani| 27|\n",
            "+--------+---+\n",
            "\n"
          ]
        }
      ]
    },
    {
      "cell_type": "code",
      "source": [
        "# action --- count, collect, show, save, take\n",
        "\n",
        "print(res.count())\n",
        "print(res.collect())\n",
        "print(res.take(1))  ## first row"
      ],
      "metadata": {
        "id": "1Nfs0GfQRjnB",
        "colab": {
          "base_uri": "https://localhost:8080/"
        },
        "outputId": "56abc053-4777-4cd6-da27-26e2f6e7e5ce"
      },
      "execution_count": null,
      "outputs": [
        {
          "output_type": "stream",
          "name": "stdout",
          "text": [
            "2\n",
            "[Row(name='prashant', age=26), Row(name='rani', age=27)]\n",
            "[Row(name='prashant', age=26)]\n"
          ]
        }
      ]
    },
    {
      "cell_type": "markdown",
      "source": [
        "### creating a dataframe"
      ],
      "metadata": {
        "id": "dDG6oNusK3me"
      }
    },
    {
      "cell_type": "code",
      "source": [
        "from pyspark.sql import SparkSession\n",
        "\n",
        "sess = SparkSession.builder.appName('newsess').getOrCreate()"
      ],
      "metadata": {
        "id": "OIAZ65y5Rjiv"
      },
      "execution_count": null,
      "outputs": []
    },
    {
      "cell_type": "code",
      "source": [
        "# from list of tuples\n",
        "\n",
        "d = [\n",
        "    (1, 'aaa', 25),\n",
        "    (2, 'bbb', 10),\n",
        "    (3, 'ccc', 15),\n",
        "    (4, 'ddd', 20)\n",
        "]\n",
        "\n",
        "col = ['id', 'name', 'marks']\n",
        "\n",
        "df = sess.createDataFrame(d, col)\n",
        "df.show()"
      ],
      "metadata": {
        "colab": {
          "base_uri": "https://localhost:8080/"
        },
        "id": "M1UYLAsJLItj",
        "outputId": "6c6a89a3-2fed-4d97-8d1e-76c6d3f3668e"
      },
      "execution_count": null,
      "outputs": [
        {
          "output_type": "stream",
          "name": "stdout",
          "text": [
            "+---+----+-----+\n",
            "| id|name|marks|\n",
            "+---+----+-----+\n",
            "|  1| aaa|   25|\n",
            "|  2| bbb|   10|\n",
            "|  3| ccc|   15|\n",
            "|  4| ddd|   20|\n",
            "+---+----+-----+\n",
            "\n"
          ]
        }
      ]
    },
    {
      "cell_type": "code",
      "source": [
        "# from a csv\n",
        "df = sess.read.format('csv').option(\"header\",\"true\").option(\"inferSchema\",'true').load('/content/sample_data.csv')\n",
        "df.show()"
      ],
      "metadata": {
        "colab": {
          "base_uri": "https://localhost:8080/"
        },
        "id": "oM8U-TAsLjRD",
        "outputId": "586133ca-2910-44ce-928c-e0b04d6f5d94"
      },
      "execution_count": null,
      "outputs": [
        {
          "output_type": "stream",
          "name": "stdout",
          "text": [
            "+---+-------+---+-----------+\n",
            "| id|   name|age|       city|\n",
            "+---+-------+---+-----------+\n",
            "|  1|  Alice| 25|   New York|\n",
            "|  2|    Bob| 30|Los Angeles|\n",
            "|  3|Charlie| 35|    Chicago|\n",
            "|  4|  David| 40|    Houston|\n",
            "|  5|    Eva| 45|    Phoenix|\n",
            "+---+-------+---+-----------+\n",
            "\n"
          ]
        }
      ]
    },
    {
      "cell_type": "code",
      "source": [
        "df.printSchema()"
      ],
      "metadata": {
        "colab": {
          "base_uri": "https://localhost:8080/"
        },
        "id": "yYFFgM6AN9Xv",
        "outputId": "983797e6-da67-4dc5-e56d-3cad7a850884"
      },
      "execution_count": null,
      "outputs": [
        {
          "output_type": "stream",
          "name": "stdout",
          "text": [
            "root\n",
            " |-- id: integer (nullable = true)\n",
            " |-- name: string (nullable = true)\n",
            " |-- age: integer (nullable = true)\n",
            " |-- city: string (nullable = true)\n",
            "\n"
          ]
        }
      ]
    },
    {
      "cell_type": "code",
      "source": [
        "# from rdd\n",
        "from pyspark.sql import SparkSession, Row\n",
        "\n",
        "session = SparkSession.builder.appName('demo2').getOrCreate()\n",
        "\n",
        "#sample rdd\n",
        "rdd = session.sparkContext.parallelize([\n",
        "    (1, 'aaa', 25),\n",
        "    (2, 'bbb', 10),\n",
        "    (3, 'ccc', 15),\n",
        "    (4, 'ddd', 20)\n",
        "\n",
        "])\n",
        "\n",
        "col = ['id', 'name', 'marks']"
      ],
      "metadata": {
        "id": "jgssEU_kQyOB"
      },
      "execution_count": null,
      "outputs": []
    },
    {
      "cell_type": "code",
      "source": [
        "df = session.createDataFrame(rdd,col)\n",
        "df.show()"
      ],
      "metadata": {
        "colab": {
          "base_uri": "https://localhost:8080/"
        },
        "id": "lHekmijHm5aH",
        "outputId": "3ae9d593-76e2-4944-eace-0097a04613ba"
      },
      "execution_count": null,
      "outputs": [
        {
          "output_type": "stream",
          "name": "stdout",
          "text": [
            "+---+----+-----+\n",
            "| id|name|marks|\n",
            "+---+----+-----+\n",
            "|  1| aaa|   25|\n",
            "|  2| bbb|   10|\n",
            "|  3| ccc|   15|\n",
            "|  4| ddd|   20|\n",
            "+---+----+-----+\n",
            "\n"
          ]
        }
      ]
    },
    {
      "cell_type": "code",
      "source": [
        "df2 = rdd.toDF(col)\n",
        "df2.show()"
      ],
      "metadata": {
        "colab": {
          "base_uri": "https://localhost:8080/"
        },
        "id": "H82i_IUcnsgz",
        "outputId": "823d6fe8-923c-4f9e-b408-00b7ef62f20c"
      },
      "execution_count": null,
      "outputs": [
        {
          "output_type": "stream",
          "name": "stdout",
          "text": [
            "+---+----+-----+\n",
            "| id|name|marks|\n",
            "+---+----+-----+\n",
            "|  1| aaa|   25|\n",
            "|  2| bbb|   10|\n",
            "|  3| ccc|   15|\n",
            "|  4| ddd|   20|\n",
            "+---+----+-----+\n",
            "\n"
          ]
        }
      ]
    },
    {
      "cell_type": "code",
      "source": [
        "type(df)"
      ],
      "metadata": {
        "colab": {
          "base_uri": "https://localhost:8080/",
          "height": 186
        },
        "id": "DC2ZWw8VnvwM",
        "outputId": "bc300ded-b3e3-420a-8ed0-5852043867d9"
      },
      "execution_count": null,
      "outputs": [
        {
          "output_type": "execute_result",
          "data": {
            "text/plain": [
              "pyspark.sql.dataframe.DataFrame"
            ],
            "text/html": [
              "<div style=\"max-width:800px; border: 1px solid var(--colab-border-color);\"><style>\n",
              "      pre.function-repr-contents {\n",
              "        overflow-x: auto;\n",
              "        padding: 8px 12px;\n",
              "        max-height: 500px;\n",
              "      }\n",
              "\n",
              "      pre.function-repr-contents.function-repr-contents-collapsed {\n",
              "        cursor: pointer;\n",
              "        max-height: 100px;\n",
              "      }\n",
              "    </style>\n",
              "    <pre style=\"white-space: initial; background:\n",
              "         var(--colab-secondary-surface-color); padding: 8px 12px;\n",
              "         border-bottom: 1px solid var(--colab-border-color);\"><b>pyspark.sql.dataframe.DataFrame</b><br/>def __init__(jdf: JavaObject, sql_ctx: Union[&#x27;SQLContext&#x27;, &#x27;SparkSession&#x27;])</pre><pre class=\"function-repr-contents function-repr-contents-collapsed\" style=\"\"><a class=\"filepath\" style=\"display:none\" href=\"#\">/usr/local/lib/python3.12/dist-packages/pyspark/sql/dataframe.py</a>A distributed collection of data grouped into named columns.\n",
              "\n",
              ".. versionadded:: 1.3.0\n",
              "\n",
              ".. versionchanged:: 3.4.0\n",
              "    Supports Spark Connect.\n",
              "\n",
              "Examples\n",
              "--------\n",
              "A :class:`DataFrame` is equivalent to a relational table in Spark SQL,\n",
              "and can be created using various functions in :class:`SparkSession`:\n",
              "\n",
              "&gt;&gt;&gt; people = spark.createDataFrame([\n",
              "...     {&quot;deptId&quot;: 1, &quot;age&quot;: 40, &quot;name&quot;: &quot;Hyukjin Kwon&quot;, &quot;gender&quot;: &quot;M&quot;, &quot;salary&quot;: 50},\n",
              "...     {&quot;deptId&quot;: 1, &quot;age&quot;: 50, &quot;name&quot;: &quot;Takuya Ueshin&quot;, &quot;gender&quot;: &quot;M&quot;, &quot;salary&quot;: 100},\n",
              "...     {&quot;deptId&quot;: 2, &quot;age&quot;: 60, &quot;name&quot;: &quot;Xinrong Meng&quot;, &quot;gender&quot;: &quot;F&quot;, &quot;salary&quot;: 150},\n",
              "...     {&quot;deptId&quot;: 3, &quot;age&quot;: 20, &quot;name&quot;: &quot;Haejoon Lee&quot;, &quot;gender&quot;: &quot;M&quot;, &quot;salary&quot;: 200}\n",
              "... ])\n",
              "\n",
              "Once created, it can be manipulated using the various domain-specific-language\n",
              "(DSL) functions defined in: :class:`DataFrame`, :class:`Column`.\n",
              "\n",
              "To select a column from the :class:`DataFrame`, use the apply method:\n",
              "\n",
              "&gt;&gt;&gt; age_col = people.age\n",
              "\n",
              "A more concrete example:\n",
              "\n",
              "&gt;&gt;&gt; # To create DataFrame using SparkSession\n",
              "... department = spark.createDataFrame([\n",
              "...     {&quot;id&quot;: 1, &quot;name&quot;: &quot;PySpark&quot;},\n",
              "...     {&quot;id&quot;: 2, &quot;name&quot;: &quot;ML&quot;},\n",
              "...     {&quot;id&quot;: 3, &quot;name&quot;: &quot;Spark SQL&quot;}\n",
              "... ])\n",
              "\n",
              "&gt;&gt;&gt; people.filter(people.age &gt; 30).join(\n",
              "...     department, people.deptId == department.id).groupBy(\n",
              "...     department.name, &quot;gender&quot;).agg({&quot;salary&quot;: &quot;avg&quot;, &quot;age&quot;: &quot;max&quot;}).show()\n",
              "+-------+------+-----------+--------+\n",
              "|   name|gender|avg(salary)|max(age)|\n",
              "+-------+------+-----------+--------+\n",
              "|     ML|     F|      150.0|      60|\n",
              "|PySpark|     M|       75.0|      50|\n",
              "+-------+------+-----------+--------+\n",
              "\n",
              "Notes\n",
              "-----\n",
              "A DataFrame should only be created as described above. It should not be directly\n",
              "created via using the constructor.</pre>\n",
              "      <script>\n",
              "      if (google.colab.kernel.accessAllowed && google.colab.files && google.colab.files.view) {\n",
              "        for (const element of document.querySelectorAll('.filepath')) {\n",
              "          element.style.display = 'block'\n",
              "          element.onclick = (event) => {\n",
              "            event.preventDefault();\n",
              "            event.stopPropagation();\n",
              "            google.colab.files.view(element.textContent, 80);\n",
              "          };\n",
              "        }\n",
              "      }\n",
              "      for (const element of document.querySelectorAll('.function-repr-contents')) {\n",
              "        element.onclick = (event) => {\n",
              "          event.preventDefault();\n",
              "          event.stopPropagation();\n",
              "          element.classList.toggle('function-repr-contents-collapsed');\n",
              "        };\n",
              "      }\n",
              "      </script>\n",
              "      </div>"
            ]
          },
          "metadata": {},
          "execution_count": 18
        }
      ]
    },
    {
      "cell_type": "code",
      "source": [
        "type(df2)"
      ],
      "metadata": {
        "colab": {
          "base_uri": "https://localhost:8080/",
          "height": 186
        },
        "id": "ZkXF-K-c5Zfz",
        "outputId": "2415d385-0e49-47cc-8529-f796a5f55b61"
      },
      "execution_count": null,
      "outputs": [
        {
          "output_type": "execute_result",
          "data": {
            "text/plain": [
              "pyspark.sql.dataframe.DataFrame"
            ],
            "text/html": [
              "<div style=\"max-width:800px; border: 1px solid var(--colab-border-color);\"><style>\n",
              "      pre.function-repr-contents {\n",
              "        overflow-x: auto;\n",
              "        padding: 8px 12px;\n",
              "        max-height: 500px;\n",
              "      }\n",
              "\n",
              "      pre.function-repr-contents.function-repr-contents-collapsed {\n",
              "        cursor: pointer;\n",
              "        max-height: 100px;\n",
              "      }\n",
              "    </style>\n",
              "    <pre style=\"white-space: initial; background:\n",
              "         var(--colab-secondary-surface-color); padding: 8px 12px;\n",
              "         border-bottom: 1px solid var(--colab-border-color);\"><b>pyspark.sql.dataframe.DataFrame</b><br/>def __init__(jdf: JavaObject, sql_ctx: Union[&#x27;SQLContext&#x27;, &#x27;SparkSession&#x27;])</pre><pre class=\"function-repr-contents function-repr-contents-collapsed\" style=\"\"><a class=\"filepath\" style=\"display:none\" href=\"#\">/usr/local/lib/python3.12/dist-packages/pyspark/sql/dataframe.py</a>A distributed collection of data grouped into named columns.\n",
              "\n",
              ".. versionadded:: 1.3.0\n",
              "\n",
              ".. versionchanged:: 3.4.0\n",
              "    Supports Spark Connect.\n",
              "\n",
              "Examples\n",
              "--------\n",
              "A :class:`DataFrame` is equivalent to a relational table in Spark SQL,\n",
              "and can be created using various functions in :class:`SparkSession`:\n",
              "\n",
              "&gt;&gt;&gt; people = spark.createDataFrame([\n",
              "...     {&quot;deptId&quot;: 1, &quot;age&quot;: 40, &quot;name&quot;: &quot;Hyukjin Kwon&quot;, &quot;gender&quot;: &quot;M&quot;, &quot;salary&quot;: 50},\n",
              "...     {&quot;deptId&quot;: 1, &quot;age&quot;: 50, &quot;name&quot;: &quot;Takuya Ueshin&quot;, &quot;gender&quot;: &quot;M&quot;, &quot;salary&quot;: 100},\n",
              "...     {&quot;deptId&quot;: 2, &quot;age&quot;: 60, &quot;name&quot;: &quot;Xinrong Meng&quot;, &quot;gender&quot;: &quot;F&quot;, &quot;salary&quot;: 150},\n",
              "...     {&quot;deptId&quot;: 3, &quot;age&quot;: 20, &quot;name&quot;: &quot;Haejoon Lee&quot;, &quot;gender&quot;: &quot;M&quot;, &quot;salary&quot;: 200}\n",
              "... ])\n",
              "\n",
              "Once created, it can be manipulated using the various domain-specific-language\n",
              "(DSL) functions defined in: :class:`DataFrame`, :class:`Column`.\n",
              "\n",
              "To select a column from the :class:`DataFrame`, use the apply method:\n",
              "\n",
              "&gt;&gt;&gt; age_col = people.age\n",
              "\n",
              "A more concrete example:\n",
              "\n",
              "&gt;&gt;&gt; # To create DataFrame using SparkSession\n",
              "... department = spark.createDataFrame([\n",
              "...     {&quot;id&quot;: 1, &quot;name&quot;: &quot;PySpark&quot;},\n",
              "...     {&quot;id&quot;: 2, &quot;name&quot;: &quot;ML&quot;},\n",
              "...     {&quot;id&quot;: 3, &quot;name&quot;: &quot;Spark SQL&quot;}\n",
              "... ])\n",
              "\n",
              "&gt;&gt;&gt; people.filter(people.age &gt; 30).join(\n",
              "...     department, people.deptId == department.id).groupBy(\n",
              "...     department.name, &quot;gender&quot;).agg({&quot;salary&quot;: &quot;avg&quot;, &quot;age&quot;: &quot;max&quot;}).show()\n",
              "+-------+------+-----------+--------+\n",
              "|   name|gender|avg(salary)|max(age)|\n",
              "+-------+------+-----------+--------+\n",
              "|     ML|     F|      150.0|      60|\n",
              "|PySpark|     M|       75.0|      50|\n",
              "+-------+------+-----------+--------+\n",
              "\n",
              "Notes\n",
              "-----\n",
              "A DataFrame should only be created as described above. It should not be directly\n",
              "created via using the constructor.</pre>\n",
              "      <script>\n",
              "      if (google.colab.kernel.accessAllowed && google.colab.files && google.colab.files.view) {\n",
              "        for (const element of document.querySelectorAll('.filepath')) {\n",
              "          element.style.display = 'block'\n",
              "          element.onclick = (event) => {\n",
              "            event.preventDefault();\n",
              "            event.stopPropagation();\n",
              "            google.colab.files.view(element.textContent, 80);\n",
              "          };\n",
              "        }\n",
              "      }\n",
              "      for (const element of document.querySelectorAll('.function-repr-contents')) {\n",
              "        element.onclick = (event) => {\n",
              "          event.preventDefault();\n",
              "          event.stopPropagation();\n",
              "          element.classList.toggle('function-repr-contents-collapsed');\n",
              "        };\n",
              "      }\n",
              "      </script>\n",
              "      </div>"
            ]
          },
          "metadata": {},
          "execution_count": 19
        }
      ]
    },
    {
      "cell_type": "code",
      "source": [
        "# Using Row objects\n",
        "rdd2 = rdd.map(lambda x: Row(id=x[0], name=x[1], age=x[2]))\n",
        "df3= session.createDataFrame(rdd2)\n",
        "df3.show()"
      ],
      "metadata": {
        "id": "6jGQP3Cy5bK8",
        "colab": {
          "base_uri": "https://localhost:8080/"
        },
        "outputId": "acb1f787-496b-48fc-c106-2f16be0c407b"
      },
      "execution_count": null,
      "outputs": [
        {
          "output_type": "stream",
          "name": "stdout",
          "text": [
            "+---+----+---+\n",
            "| id|name|age|\n",
            "+---+----+---+\n",
            "|  1| aaa| 25|\n",
            "|  2| bbb| 10|\n",
            "|  3| ccc| 15|\n",
            "|  4| ddd| 20|\n",
            "+---+----+---+\n",
            "\n"
          ]
        }
      ]
    },
    {
      "cell_type": "code",
      "source": [
        "df_json = session.read.format('json').load('/content/titanic-parquet.json')\n",
        "df_json.show()"
      ],
      "metadata": {
        "colab": {
          "base_uri": "https://localhost:8080/"
        },
        "id": "ZloKBjFibhkS",
        "outputId": "386048cc-6541-4418-abe9-5caa27d9f436"
      },
      "execution_count": null,
      "outputs": [
        {
          "output_type": "stream",
          "name": "stdout",
          "text": [
            "+----+-----+--------+-------+--------------------+-----+-----------+------+------+-----+--------+----------------+\n",
            "| Age|Cabin|Embarked|   Fare|                Name|Parch|PassengerId|Pclass|   Sex|SibSp|Survived|          Ticket|\n",
            "+----+-----+--------+-------+--------------------+-----+-----------+------+------+-----+--------+----------------+\n",
            "|22.0| NULL|       S|   7.25|Braund, Mr. Owen ...|    0|          1|     3|  male|    1|       0|       A/5 21171|\n",
            "|38.0|  C85|       C|71.2833|Cumings, Mrs. Joh...|    0|          2|     1|female|    1|       1|        PC 17599|\n",
            "|26.0| NULL|       S|  7.925|Heikkinen, Miss. ...|    0|          3|     3|female|    0|       1|STON/O2. 3101282|\n",
            "|35.0| C123|       S|   53.1|Futrelle, Mrs. Ja...|    0|          4|     1|female|    1|       1|          113803|\n",
            "|35.0| NULL|       S|   8.05|Allen, Mr. Willia...|    0|          5|     3|  male|    0|       0|          373450|\n",
            "|NULL| NULL|       Q| 8.4583|    Moran, Mr. James|    0|          6|     3|  male|    0|       0|          330877|\n",
            "|54.0|  E46|       S|51.8625|McCarthy, Mr. Tim...|    0|          7|     1|  male|    0|       0|           17463|\n",
            "| 2.0| NULL|       S| 21.075|Palsson, Master. ...|    1|          8|     3|  male|    3|       0|          349909|\n",
            "|27.0| NULL|       S|11.1333|Johnson, Mrs. Osc...|    2|          9|     3|female|    0|       1|          347742|\n",
            "|14.0| NULL|       C|30.0708|Nasser, Mrs. Nich...|    0|         10|     2|female|    1|       1|          237736|\n",
            "| 4.0|   G6|       S|   16.7|Sandstrom, Miss. ...|    1|         11|     3|female|    1|       1|         PP 9549|\n",
            "|58.0| C103|       S|  26.55|Bonnell, Miss. El...|    0|         12|     1|female|    0|       1|          113783|\n",
            "|20.0| NULL|       S|   8.05|Saundercock, Mr. ...|    0|         13|     3|  male|    0|       0|       A/5. 2151|\n",
            "|39.0| NULL|       S| 31.275|Andersson, Mr. An...|    5|         14|     3|  male|    1|       0|          347082|\n",
            "|14.0| NULL|       S| 7.8542|Vestrom, Miss. Hu...|    0|         15|     3|female|    0|       0|          350406|\n",
            "|55.0| NULL|       S|   16.0|Hewlett, Mrs. (Ma...|    0|         16|     2|female|    0|       1|          248706|\n",
            "| 2.0| NULL|       Q| 29.125|Rice, Master. Eugene|    1|         17|     3|  male|    4|       0|          382652|\n",
            "|NULL| NULL|       S|   13.0|Williams, Mr. Cha...|    0|         18|     2|  male|    0|       1|          244373|\n",
            "|31.0| NULL|       S|   18.0|Vander Planke, Mr...|    0|         19|     3|female|    1|       0|          345763|\n",
            "|NULL| NULL|       C|  7.225|Masselmani, Mrs. ...|    0|         20|     3|female|    0|       1|            2649|\n",
            "+----+-----+--------+-------+--------------------+-----+-----------+------+------+-----+--------+----------------+\n",
            "only showing top 20 rows\n",
            "\n"
          ]
        }
      ]
    },
    {
      "cell_type": "code",
      "source": [
        "df_json.printSchema()"
      ],
      "metadata": {
        "colab": {
          "base_uri": "https://localhost:8080/"
        },
        "id": "xEUDsBAIcv77",
        "outputId": "46ad3208-6cf4-45ac-ab16-506a0ad2a0b8"
      },
      "execution_count": null,
      "outputs": [
        {
          "output_type": "stream",
          "name": "stdout",
          "text": [
            "root\n",
            " |-- Age: double (nullable = true)\n",
            " |-- Cabin: string (nullable = true)\n",
            " |-- Embarked: string (nullable = true)\n",
            " |-- Fare: double (nullable = true)\n",
            " |-- Name: string (nullable = true)\n",
            " |-- Parch: string (nullable = true)\n",
            " |-- PassengerId: string (nullable = true)\n",
            " |-- Pclass: string (nullable = true)\n",
            " |-- Sex: string (nullable = true)\n",
            " |-- SibSp: string (nullable = true)\n",
            " |-- Survived: string (nullable = true)\n",
            " |-- Ticket: string (nullable = true)\n",
            "\n"
          ]
        }
      ]
    },
    {
      "cell_type": "code",
      "source": [
        "df_json2= session.read.json('/content/titanic-parquet.json')\n",
        "df_json2.show()"
      ],
      "metadata": {
        "colab": {
          "base_uri": "https://localhost:8080/"
        },
        "id": "QcjgECQ2bvSe",
        "outputId": "7381f904-7d0d-481a-c2d4-64671df0cdb3"
      },
      "execution_count": null,
      "outputs": [
        {
          "output_type": "stream",
          "name": "stdout",
          "text": [
            "+----+-----+--------+-------+--------------------+-----+-----------+------+------+-----+--------+----------------+\n",
            "| Age|Cabin|Embarked|   Fare|                Name|Parch|PassengerId|Pclass|   Sex|SibSp|Survived|          Ticket|\n",
            "+----+-----+--------+-------+--------------------+-----+-----------+------+------+-----+--------+----------------+\n",
            "|22.0| NULL|       S|   7.25|Braund, Mr. Owen ...|    0|          1|     3|  male|    1|       0|       A/5 21171|\n",
            "|38.0|  C85|       C|71.2833|Cumings, Mrs. Joh...|    0|          2|     1|female|    1|       1|        PC 17599|\n",
            "|26.0| NULL|       S|  7.925|Heikkinen, Miss. ...|    0|          3|     3|female|    0|       1|STON/O2. 3101282|\n",
            "|35.0| C123|       S|   53.1|Futrelle, Mrs. Ja...|    0|          4|     1|female|    1|       1|          113803|\n",
            "|35.0| NULL|       S|   8.05|Allen, Mr. Willia...|    0|          5|     3|  male|    0|       0|          373450|\n",
            "|NULL| NULL|       Q| 8.4583|    Moran, Mr. James|    0|          6|     3|  male|    0|       0|          330877|\n",
            "|54.0|  E46|       S|51.8625|McCarthy, Mr. Tim...|    0|          7|     1|  male|    0|       0|           17463|\n",
            "| 2.0| NULL|       S| 21.075|Palsson, Master. ...|    1|          8|     3|  male|    3|       0|          349909|\n",
            "|27.0| NULL|       S|11.1333|Johnson, Mrs. Osc...|    2|          9|     3|female|    0|       1|          347742|\n",
            "|14.0| NULL|       C|30.0708|Nasser, Mrs. Nich...|    0|         10|     2|female|    1|       1|          237736|\n",
            "| 4.0|   G6|       S|   16.7|Sandstrom, Miss. ...|    1|         11|     3|female|    1|       1|         PP 9549|\n",
            "|58.0| C103|       S|  26.55|Bonnell, Miss. El...|    0|         12|     1|female|    0|       1|          113783|\n",
            "|20.0| NULL|       S|   8.05|Saundercock, Mr. ...|    0|         13|     3|  male|    0|       0|       A/5. 2151|\n",
            "|39.0| NULL|       S| 31.275|Andersson, Mr. An...|    5|         14|     3|  male|    1|       0|          347082|\n",
            "|14.0| NULL|       S| 7.8542|Vestrom, Miss. Hu...|    0|         15|     3|female|    0|       0|          350406|\n",
            "|55.0| NULL|       S|   16.0|Hewlett, Mrs. (Ma...|    0|         16|     2|female|    0|       1|          248706|\n",
            "| 2.0| NULL|       Q| 29.125|Rice, Master. Eugene|    1|         17|     3|  male|    4|       0|          382652|\n",
            "|NULL| NULL|       S|   13.0|Williams, Mr. Cha...|    0|         18|     2|  male|    0|       1|          244373|\n",
            "|31.0| NULL|       S|   18.0|Vander Planke, Mr...|    0|         19|     3|female|    1|       0|          345763|\n",
            "|NULL| NULL|       C|  7.225|Masselmani, Mrs. ...|    0|         20|     3|female|    0|       1|            2649|\n",
            "+----+-----+--------+-------+--------------------+-----+-----------+------+------+-----+--------+----------------+\n",
            "only showing top 20 rows\n",
            "\n"
          ]
        }
      ]
    },
    {
      "cell_type": "code",
      "source": [
        "df_par = session.read.parquet(\"/content/house-price.parquet\")\n",
        "df_par.show()"
      ],
      "metadata": {
        "id": "8AlW19eHcjCl",
        "colab": {
          "base_uri": "https://localhost:8080/"
        },
        "outputId": "2721b313-78ae-43e6-ce43-e22fbe530839"
      },
      "execution_count": null,
      "outputs": [
        {
          "output_type": "stream",
          "name": "stdout",
          "text": [
            "+--------+-----+--------+---------+-------+--------+---------+--------+---------------+---------------+-------+--------+----------------+\n",
            "|   price| area|bedrooms|bathrooms|stories|mainroad|guestroom|basement|hotwaterheating|airconditioning|parking|prefarea|furnishingstatus|\n",
            "+--------+-----+--------+---------+-------+--------+---------+--------+---------------+---------------+-------+--------+----------------+\n",
            "|13300000| 7420|       4|        2|      3|     yes|       no|      no|             no|            yes|      2|     yes|       furnished|\n",
            "|12250000| 8960|       4|        4|      4|     yes|       no|      no|             no|            yes|      3|      no|       furnished|\n",
            "|12250000| 9960|       3|        2|      2|     yes|       no|     yes|             no|             no|      2|     yes|  semi-furnished|\n",
            "|12215000| 7500|       4|        2|      2|     yes|       no|     yes|             no|            yes|      3|     yes|       furnished|\n",
            "|11410000| 7420|       4|        1|      2|     yes|      yes|     yes|             no|            yes|      2|      no|       furnished|\n",
            "|10850000| 7500|       3|        3|      1|     yes|       no|     yes|             no|            yes|      2|     yes|  semi-furnished|\n",
            "|10150000| 8580|       4|        3|      4|     yes|       no|      no|             no|            yes|      2|     yes|  semi-furnished|\n",
            "|10150000|16200|       5|        3|      2|     yes|       no|      no|             no|             no|      0|      no|     unfurnished|\n",
            "| 9870000| 8100|       4|        1|      2|     yes|      yes|     yes|             no|            yes|      2|     yes|       furnished|\n",
            "| 9800000| 5750|       3|        2|      4|     yes|      yes|      no|             no|            yes|      1|     yes|     unfurnished|\n",
            "| 9800000|13200|       3|        1|      2|     yes|       no|     yes|             no|            yes|      2|     yes|       furnished|\n",
            "| 9681000| 6000|       4|        3|      2|     yes|      yes|     yes|            yes|             no|      2|      no|  semi-furnished|\n",
            "| 9310000| 6550|       4|        2|      2|     yes|       no|      no|             no|            yes|      1|     yes|  semi-furnished|\n",
            "| 9240000| 3500|       4|        2|      2|     yes|       no|      no|            yes|             no|      2|      no|       furnished|\n",
            "| 9240000| 7800|       3|        2|      2|     yes|       no|      no|             no|             no|      0|     yes|  semi-furnished|\n",
            "| 9100000| 6000|       4|        1|      2|     yes|       no|     yes|             no|             no|      2|      no|  semi-furnished|\n",
            "| 9100000| 6600|       4|        2|      2|     yes|      yes|     yes|             no|            yes|      1|     yes|     unfurnished|\n",
            "| 8960000| 8500|       3|        2|      4|     yes|       no|      no|             no|            yes|      2|      no|       furnished|\n",
            "| 8890000| 4600|       3|        2|      2|     yes|      yes|      no|             no|            yes|      2|      no|       furnished|\n",
            "| 8855000| 6420|       3|        2|      2|     yes|       no|      no|             no|            yes|      1|     yes|  semi-furnished|\n",
            "+--------+-----+--------+---------+-------+--------+---------+--------+---------------+---------------+-------+--------+----------------+\n",
            "only showing top 20 rows\n",
            "\n"
          ]
        }
      ]
    },
    {
      "cell_type": "code",
      "source": [
        "df_par.printSchema()"
      ],
      "metadata": {
        "colab": {
          "base_uri": "https://localhost:8080/"
        },
        "id": "gXL43qXfYUAl",
        "outputId": "d8947c19-42d3-4b10-faf0-33e191c84d45"
      },
      "execution_count": null,
      "outputs": [
        {
          "output_type": "stream",
          "name": "stdout",
          "text": [
            "root\n",
            " |-- price: long (nullable = true)\n",
            " |-- area: long (nullable = true)\n",
            " |-- bedrooms: long (nullable = true)\n",
            " |-- bathrooms: long (nullable = true)\n",
            " |-- stories: long (nullable = true)\n",
            " |-- mainroad: string (nullable = true)\n",
            " |-- guestroom: string (nullable = true)\n",
            " |-- basement: string (nullable = true)\n",
            " |-- hotwaterheating: string (nullable = true)\n",
            " |-- airconditioning: string (nullable = true)\n",
            " |-- parking: long (nullable = true)\n",
            " |-- prefarea: string (nullable = true)\n",
            " |-- furnishingstatus: string (nullable = true)\n",
            "\n"
          ]
        }
      ]
    },
    {
      "cell_type": "code",
      "source": [
        "df_par.write.parquet(\"path\")"
      ],
      "metadata": {
        "id": "Z2uU_P3OYXdy"
      },
      "execution_count": null,
      "outputs": []
    },
    {
      "cell_type": "code",
      "source": [
        "#path folder created"
      ],
      "metadata": {
        "id": "UiwF3QApYhyk"
      },
      "execution_count": null,
      "outputs": []
    },
    {
      "cell_type": "code",
      "source": [
        "df3.show()"
      ],
      "metadata": {
        "colab": {
          "base_uri": "https://localhost:8080/"
        },
        "id": "z-0kS58ZYpcY",
        "outputId": "d2216cae-a940-49c8-8741-e33e09c6c974"
      },
      "execution_count": null,
      "outputs": [
        {
          "output_type": "stream",
          "name": "stdout",
          "text": [
            "+---+----+---+\n",
            "| id|name|age|\n",
            "+---+----+---+\n",
            "|  1| aaa| 25|\n",
            "|  2| bbb| 10|\n",
            "|  3| ccc| 15|\n",
            "|  4| ddd| 20|\n",
            "+---+----+---+\n",
            "\n"
          ]
        }
      ]
    },
    {
      "cell_type": "code",
      "source": [
        "df.show()"
      ],
      "metadata": {
        "colab": {
          "base_uri": "https://localhost:8080/"
        },
        "id": "eTPTgod3abCx",
        "outputId": "7d011275-dfb8-4402-c628-01d20590ef15"
      },
      "execution_count": null,
      "outputs": [
        {
          "output_type": "stream",
          "name": "stdout",
          "text": [
            "+---+-------+---+-----------+\n",
            "| id|   name|age|       city|\n",
            "+---+-------+---+-----------+\n",
            "|  1|  Alice| 25|   New York|\n",
            "|  2|    Bob| 30|Los Angeles|\n",
            "|  3|Charlie| 35|    Chicago|\n",
            "|  4|  David| 40|    Houston|\n",
            "|  5|    Eva| 45|    Phoenix|\n",
            "+---+-------+---+-----------+\n",
            "\n"
          ]
        }
      ]
    },
    {
      "cell_type": "code",
      "source": [
        "# dataframe operations"
      ],
      "metadata": {
        "id": "ilz4oTJZak46"
      },
      "execution_count": null,
      "outputs": []
    },
    {
      "cell_type": "code",
      "source": [
        "df.select(\"name\").show()"
      ],
      "metadata": {
        "colab": {
          "base_uri": "https://localhost:8080/"
        },
        "id": "momY2fk3ao4i",
        "outputId": "170b205b-f7c9-43b9-eccc-144c36d55433"
      },
      "execution_count": null,
      "outputs": [
        {
          "output_type": "stream",
          "name": "stdout",
          "text": [
            "+-------+\n",
            "|   name|\n",
            "+-------+\n",
            "|  Alice|\n",
            "|    Bob|\n",
            "|Charlie|\n",
            "|  David|\n",
            "|    Eva|\n",
            "+-------+\n",
            "\n"
          ]
        }
      ]
    },
    {
      "cell_type": "code",
      "source": [
        "df.select(\"name\", \"age\").show()"
      ],
      "metadata": {
        "colab": {
          "base_uri": "https://localhost:8080/"
        },
        "id": "zC7YeqtqariR",
        "outputId": "d595c3c7-585a-4298-c760-0901de17702f"
      },
      "execution_count": null,
      "outputs": [
        {
          "output_type": "stream",
          "name": "stdout",
          "text": [
            "+-------+---+\n",
            "|   name|age|\n",
            "+-------+---+\n",
            "|  Alice| 25|\n",
            "|    Bob| 30|\n",
            "|Charlie| 35|\n",
            "|  David| 40|\n",
            "|    Eva| 45|\n",
            "+-------+---+\n",
            "\n"
          ]
        }
      ]
    },
    {
      "cell_type": "code",
      "source": [
        "cols = [\"name\",\"age\",\"city\"]\n",
        "\n",
        "df.select(*cols).show()"
      ],
      "metadata": {
        "colab": {
          "base_uri": "https://localhost:8080/"
        },
        "id": "lQZMzFXIa7C_",
        "outputId": "f64744fb-a753-46a6-fd71-e4b3e8a51fab"
      },
      "execution_count": null,
      "outputs": [
        {
          "output_type": "stream",
          "name": "stdout",
          "text": [
            "+-------+---+-----------+\n",
            "|   name|age|       city|\n",
            "+-------+---+-----------+\n",
            "|  Alice| 25|   New York|\n",
            "|    Bob| 30|Los Angeles|\n",
            "|Charlie| 35|    Chicago|\n",
            "|  David| 40|    Houston|\n",
            "|    Eva| 45|    Phoenix|\n",
            "+-------+---+-----------+\n",
            "\n"
          ]
        }
      ]
    },
    {
      "cell_type": "code",
      "source": [
        "# remove a column\n",
        "\n",
        "df.drop(\"city\").show()"
      ],
      "metadata": {
        "colab": {
          "base_uri": "https://localhost:8080/"
        },
        "id": "xwJADIiib2H4",
        "outputId": "4cf75449-9435-4754-b423-f066903a3c7f"
      },
      "execution_count": null,
      "outputs": [
        {
          "output_type": "stream",
          "name": "stdout",
          "text": [
            "+---+-------+---+\n",
            "| id|   name|age|\n",
            "+---+-------+---+\n",
            "|  1|  Alice| 25|\n",
            "|  2|    Bob| 30|\n",
            "|  3|Charlie| 35|\n",
            "|  4|  David| 40|\n",
            "|  5|    Eva| 45|\n",
            "+---+-------+---+\n",
            "\n"
          ]
        }
      ]
    },
    {
      "cell_type": "code",
      "source": [
        "df.show()"
      ],
      "metadata": {
        "colab": {
          "base_uri": "https://localhost:8080/"
        },
        "id": "dK3i5A3ucG9T",
        "outputId": "16482a8f-8dbc-4d73-c7fc-d3716ce7bae8"
      },
      "execution_count": null,
      "outputs": [
        {
          "output_type": "stream",
          "name": "stdout",
          "text": [
            "+---+-------+---+-----------+\n",
            "| id|   name|age|       city|\n",
            "+---+-------+---+-----------+\n",
            "|  1|  Alice| 25|   New York|\n",
            "|  2|    Bob| 30|Los Angeles|\n",
            "|  3|Charlie| 35|    Chicago|\n",
            "|  4|  David| 40|    Houston|\n",
            "|  5|    Eva| 45|    Phoenix|\n",
            "+---+-------+---+-----------+\n",
            "\n"
          ]
        }
      ]
    },
    {
      "cell_type": "code",
      "source": [
        "df= df.drop(\"city\")\n",
        "df.show()"
      ],
      "metadata": {
        "colab": {
          "base_uri": "https://localhost:8080/"
        },
        "id": "VevnrucacItm",
        "outputId": "09e7e564-d97c-43c2-9234-c7e55e27765b"
      },
      "execution_count": null,
      "outputs": [
        {
          "output_type": "stream",
          "name": "stdout",
          "text": [
            "+---+-------+---+\n",
            "| id|   name|age|\n",
            "+---+-------+---+\n",
            "|  1|  Alice| 25|\n",
            "|  2|    Bob| 30|\n",
            "|  3|Charlie| 35|\n",
            "|  4|  David| 40|\n",
            "|  5|    Eva| 45|\n",
            "+---+-------+---+\n",
            "\n"
          ]
        }
      ]
    },
    {
      "cell_type": "code",
      "source": [
        "df.withColumnsRenamed({\"age\":\"new_age\"}).show()"
      ],
      "metadata": {
        "colab": {
          "base_uri": "https://localhost:8080/"
        },
        "id": "qW3ZuiDkcQA6",
        "outputId": "d479feef-11f7-428f-8bc6-88e07319648a"
      },
      "execution_count": null,
      "outputs": [
        {
          "output_type": "stream",
          "name": "stdout",
          "text": [
            "+---+-------+-------+\n",
            "| id|   name|new_age|\n",
            "+---+-------+-------+\n",
            "|  1|  Alice|     25|\n",
            "|  2|    Bob|     30|\n",
            "|  3|Charlie|     35|\n",
            "|  4|  David|     40|\n",
            "|  5|    Eva|     45|\n",
            "+---+-------+-------+\n",
            "\n"
          ]
        }
      ]
    },
    {
      "cell_type": "code",
      "source": [
        "df.selectExpr(\"age\" ,\"age * 2 as age2\").show()"
      ],
      "metadata": {
        "colab": {
          "base_uri": "https://localhost:8080/"
        },
        "id": "mWvSJFLRcrzh",
        "outputId": "ea5c06fc-0f74-44b3-f053-ac34b5f99358"
      },
      "execution_count": null,
      "outputs": [
        {
          "output_type": "stream",
          "name": "stdout",
          "text": [
            "+---+----+\n",
            "|age|age2|\n",
            "+---+----+\n",
            "| 25|  50|\n",
            "| 30|  60|\n",
            "| 35|  70|\n",
            "| 40|  80|\n",
            "| 45|  90|\n",
            "+---+----+\n",
            "\n"
          ]
        }
      ]
    },
    {
      "cell_type": "code",
      "source": [
        "df.filter(df.age > 30).show()"
      ],
      "metadata": {
        "colab": {
          "base_uri": "https://localhost:8080/"
        },
        "id": "SqNiiOB3dg9D",
        "outputId": "45f77878-3631-411d-ba68-c7e38396218b"
      },
      "execution_count": null,
      "outputs": [
        {
          "output_type": "stream",
          "name": "stdout",
          "text": [
            "+---+-------+---+\n",
            "| id|   name|age|\n",
            "+---+-------+---+\n",
            "|  3|Charlie| 35|\n",
            "|  4|  David| 40|\n",
            "|  5|    Eva| 45|\n",
            "+---+-------+---+\n",
            "\n"
          ]
        }
      ]
    },
    {
      "cell_type": "code",
      "source": [
        "df.where(df.age > 30).show()"
      ],
      "metadata": {
        "colab": {
          "base_uri": "https://localhost:8080/"
        },
        "id": "Dn1_1ng0d0ws",
        "outputId": "7a7f0dab-d00a-48db-839d-0f9b7d17b9a3"
      },
      "execution_count": null,
      "outputs": [
        {
          "output_type": "stream",
          "name": "stdout",
          "text": [
            "+---+-------+---+\n",
            "| id|   name|age|\n",
            "+---+-------+---+\n",
            "|  3|Charlie| 35|\n",
            "|  4|  David| 40|\n",
            "|  5|    Eva| 45|\n",
            "+---+-------+---+\n",
            "\n"
          ]
        }
      ]
    },
    {
      "cell_type": "code",
      "source": [
        "df.filter( (df.age > 30) | (df.age < 20) ).show()\n"
      ],
      "metadata": {
        "colab": {
          "base_uri": "https://localhost:8080/"
        },
        "id": "DcbFaal5d2q8",
        "outputId": "11e975e3-67a6-47d4-9145-3cecf471d208"
      },
      "execution_count": null,
      "outputs": [
        {
          "output_type": "stream",
          "name": "stdout",
          "text": [
            "+---+-------+---+\n",
            "| id|   name|age|\n",
            "+---+-------+---+\n",
            "|  3|Charlie| 35|\n",
            "|  4|  David| 40|\n",
            "|  5|    Eva| 45|\n",
            "+---+-------+---+\n",
            "\n"
          ]
        }
      ]
    },
    {
      "cell_type": "code",
      "source": [
        "df.filter( (df.age > 30) & (df.name.startswith(\"A\")) ).show()\n"
      ],
      "metadata": {
        "colab": {
          "base_uri": "https://localhost:8080/"
        },
        "id": "rM0C2PdzeC4q",
        "outputId": "94dad041-f150-4f4a-f0aa-be9a850da240"
      },
      "execution_count": null,
      "outputs": [
        {
          "output_type": "stream",
          "name": "stdout",
          "text": [
            "+---+----+---+\n",
            "| id|name|age|\n",
            "+---+----+---+\n",
            "+---+----+---+\n",
            "\n"
          ]
        }
      ]
    },
    {
      "cell_type": "code",
      "source": [
        "df.filter(\"name = 'Eva'\").show()"
      ],
      "metadata": {
        "colab": {
          "base_uri": "https://localhost:8080/"
        },
        "id": "0zgjSwcleF9Z",
        "outputId": "e81f5fd2-9bf6-417e-a8e0-ee097b08d43d"
      },
      "execution_count": null,
      "outputs": [
        {
          "output_type": "stream",
          "name": "stdout",
          "text": [
            "+---+----+---+\n",
            "| id|name|age|\n",
            "+---+----+---+\n",
            "|  5| Eva| 45|\n",
            "+---+----+---+\n",
            "\n"
          ]
        }
      ]
    },
    {
      "cell_type": "code",
      "source": [
        "df.filter(df.age.isNull()).show()\n",
        "df.filter(df.age.isNotNull()).show()"
      ],
      "metadata": {
        "colab": {
          "base_uri": "https://localhost:8080/"
        },
        "id": "zXUaKWlzeK2C",
        "outputId": "af372e6f-5857-4f69-c71e-7973adb25d02"
      },
      "execution_count": null,
      "outputs": [
        {
          "output_type": "stream",
          "name": "stdout",
          "text": [
            "+---+----+---+\n",
            "| id|name|age|\n",
            "+---+----+---+\n",
            "+---+----+---+\n",
            "\n",
            "+---+-------+---+\n",
            "| id|   name|age|\n",
            "+---+-------+---+\n",
            "|  1|  Alice| 25|\n",
            "|  2|    Bob| 30|\n",
            "|  3|Charlie| 35|\n",
            "|  4|  David| 40|\n",
            "|  5|    Eva| 45|\n",
            "+---+-------+---+\n",
            "\n"
          ]
        }
      ]
    },
    {
      "cell_type": "code",
      "source": [
        "df.filter(df.age.between(25, 35)).show()  # age between 25 and 35\n",
        "df.filter(df.name.isin(\"Alice\", \"Bob\")).show()  # name in list"
      ],
      "metadata": {
        "colab": {
          "base_uri": "https://localhost:8080/"
        },
        "id": "vZwYsGtteRMP",
        "outputId": "1218c71a-50a1-4528-ea8a-cf220a9ad264"
      },
      "execution_count": null,
      "outputs": [
        {
          "output_type": "stream",
          "name": "stdout",
          "text": [
            "+---+-------+---+\n",
            "| id|   name|age|\n",
            "+---+-------+---+\n",
            "|  1|  Alice| 25|\n",
            "|  2|    Bob| 30|\n",
            "|  3|Charlie| 35|\n",
            "+---+-------+---+\n",
            "\n",
            "+---+-----+---+\n",
            "| id| name|age|\n",
            "+---+-----+---+\n",
            "|  1|Alice| 25|\n",
            "|  2|  Bob| 30|\n",
            "+---+-----+---+\n",
            "\n"
          ]
        }
      ]
    },
    {
      "cell_type": "code",
      "source": [
        "# SQL LIKE patterns\n",
        "\n",
        "df.filter(df.name.startswith(\"A\")).show()\n",
        "df.filter(df.name.contains(\"li\")).show()\n",
        "df.filter(df.name.like(\"E%\")).show()"
      ],
      "metadata": {
        "colab": {
          "base_uri": "https://localhost:8080/"
        },
        "id": "d_QO-uemeXpe",
        "outputId": "ad3bff10-ae1b-4019-ba44-9697ad42932d"
      },
      "execution_count": null,
      "outputs": [
        {
          "output_type": "stream",
          "name": "stdout",
          "text": [
            "+---+-----+---+\n",
            "| id| name|age|\n",
            "+---+-----+---+\n",
            "|  1|Alice| 25|\n",
            "+---+-----+---+\n",
            "\n",
            "+---+-------+---+\n",
            "| id|   name|age|\n",
            "+---+-------+---+\n",
            "|  1|  Alice| 25|\n",
            "|  3|Charlie| 35|\n",
            "+---+-------+---+\n",
            "\n",
            "+---+----+---+\n",
            "| id|name|age|\n",
            "+---+----+---+\n",
            "|  5| Eva| 45|\n",
            "+---+----+---+\n",
            "\n"
          ]
        }
      ]
    },
    {
      "cell_type": "code",
      "source": [
        "df.createGlobalTempView(\"temp\")\n"
      ],
      "metadata": {
        "id": "B3-QWXvfeji4"
      },
      "execution_count": null,
      "outputs": []
    },
    {
      "cell_type": "code",
      "source": [
        "session.sql(\"select * from global_temp.temp\").show()"
      ],
      "metadata": {
        "colab": {
          "base_uri": "https://localhost:8080/"
        },
        "id": "EHMyrJZkevtK",
        "outputId": "64737081-eca4-40fe-afa4-98fcccf1fe0e"
      },
      "execution_count": null,
      "outputs": [
        {
          "output_type": "stream",
          "name": "stdout",
          "text": [
            "+---+-------+---+\n",
            "| id|   name|age|\n",
            "+---+-------+---+\n",
            "|  1|  Alice| 25|\n",
            "|  2|    Bob| 30|\n",
            "|  3|Charlie| 35|\n",
            "|  4|  David| 40|\n",
            "|  5|    Eva| 45|\n",
            "+---+-------+---+\n",
            "\n"
          ]
        }
      ]
    },
    {
      "cell_type": "code",
      "source": [
        "# aggregations"
      ],
      "metadata": {
        "id": "GPt_nmwOe6Dg"
      },
      "execution_count": null,
      "outputs": []
    },
    {
      "cell_type": "code",
      "source": [
        "df.groupBy(\"name\").count().show()"
      ],
      "metadata": {
        "colab": {
          "base_uri": "https://localhost:8080/"
        },
        "id": "cEXCJUgNfdG_",
        "outputId": "871bcb1e-139b-48c0-cc0c-622d3e20c454"
      },
      "execution_count": null,
      "outputs": [
        {
          "output_type": "stream",
          "name": "stdout",
          "text": [
            "+-------+-----+\n",
            "|   name|count|\n",
            "+-------+-----+\n",
            "|    Eva|    1|\n",
            "|Charlie|    1|\n",
            "|    Bob|    1|\n",
            "|  Alice|    1|\n",
            "|  David|    1|\n",
            "+-------+-----+\n",
            "\n"
          ]
        }
      ]
    },
    {
      "cell_type": "code",
      "source": [
        "# count , sum, avg, max, min\n",
        "\n",
        "from pyspark.sql.functions import sum, avg, max , min, count_distinct, count_if"
      ],
      "metadata": {
        "id": "NDyVB4nrfehk"
      },
      "execution_count": null,
      "outputs": []
    },
    {
      "cell_type": "code",
      "source": [
        "# order by\n",
        "\"\"\"\n",
        "df.groupBy(\"department\") \\\n",
        "  .agg(sum(\"salary\").alias(\"total_salary\")) \\\n",
        "  .orderBy(\"total_salary\", ascending=False).show()\n",
        "\n",
        "\"\"\""
      ],
      "metadata": {
        "colab": {
          "base_uri": "https://localhost:8080/",
          "height": 37
        },
        "id": "JwoXBTFpgSJz",
        "outputId": "119c15ba-a8bd-4920-9c15-75ac3be07478"
      },
      "execution_count": null,
      "outputs": [
        {
          "output_type": "execute_result",
          "data": {
            "text/plain": [
              "'\\ndf.groupBy(\"department\")   .agg(sum(\"salary\").alias(\"total_salary\"))   .orderBy(\"total_salary\", ascending=False).show()\\n\\n'"
            ],
            "application/vnd.google.colaboratory.intrinsic+json": {
              "type": "string"
            }
          },
          "metadata": {},
          "execution_count": 69
        }
      ]
    },
    {
      "cell_type": "code",
      "source": [
        "df.orderBy(\"age\").show()"
      ],
      "metadata": {
        "colab": {
          "base_uri": "https://localhost:8080/"
        },
        "id": "oxpYo-iRgVcn",
        "outputId": "25abf6f6-fc24-4f52-d0c3-fdd7a30da5b5"
      },
      "execution_count": null,
      "outputs": [
        {
          "output_type": "stream",
          "name": "stdout",
          "text": [
            "+---+-------+---+\n",
            "| id|   name|age|\n",
            "+---+-------+---+\n",
            "|  1|  Alice| 25|\n",
            "|  2|    Bob| 30|\n",
            "|  3|Charlie| 35|\n",
            "|  4|  David| 40|\n",
            "|  5|    Eva| 45|\n",
            "+---+-------+---+\n",
            "\n"
          ]
        }
      ]
    },
    {
      "cell_type": "code",
      "source": [
        "df.sort(\"age\").show()"
      ],
      "metadata": {
        "colab": {
          "base_uri": "https://localhost:8080/"
        },
        "id": "Nibo-vU3gdBg",
        "outputId": "218c287e-b1e0-4999-f076-0969e086bc0e"
      },
      "execution_count": null,
      "outputs": [
        {
          "output_type": "stream",
          "name": "stdout",
          "text": [
            "+---+-------+---+\n",
            "| id|   name|age|\n",
            "+---+-------+---+\n",
            "|  1|  Alice| 25|\n",
            "|  2|    Bob| 30|\n",
            "|  3|Charlie| 35|\n",
            "|  4|  David| 40|\n",
            "|  5|    Eva| 45|\n",
            "+---+-------+---+\n",
            "\n"
          ]
        }
      ]
    },
    {
      "cell_type": "code",
      "source": [
        "# desc\n",
        "from pyspark.sql.functions import col\n",
        "\n",
        "df.orderBy(col(\"age\").desc()).show()"
      ],
      "metadata": {
        "colab": {
          "base_uri": "https://localhost:8080/"
        },
        "id": "Pfz8bavYgiCn",
        "outputId": "4029e1e6-339f-493c-d74c-f8e103763020"
      },
      "execution_count": null,
      "outputs": [
        {
          "output_type": "stream",
          "name": "stdout",
          "text": [
            "+---+-------+---+\n",
            "| id|   name|age|\n",
            "+---+-------+---+\n",
            "|  5|    Eva| 45|\n",
            "|  4|  David| 40|\n",
            "|  3|Charlie| 35|\n",
            "|  2|    Bob| 30|\n",
            "|  1|  Alice| 25|\n",
            "+---+-------+---+\n",
            "\n"
          ]
        }
      ]
    },
    {
      "cell_type": "code",
      "source": [
        "df.sort(df.age.desc()).show()"
      ],
      "metadata": {
        "colab": {
          "base_uri": "https://localhost:8080/"
        },
        "id": "vAx4s3WFgzfC",
        "outputId": "aad05464-197a-4e23-ce18-5582e437f5a2"
      },
      "execution_count": null,
      "outputs": [
        {
          "output_type": "stream",
          "name": "stdout",
          "text": [
            "+---+-------+---+\n",
            "| id|   name|age|\n",
            "+---+-------+---+\n",
            "|  5|    Eva| 45|\n",
            "|  4|  David| 40|\n",
            "|  3|Charlie| 35|\n",
            "|  2|    Bob| 30|\n",
            "|  1|  Alice| 25|\n",
            "+---+-------+---+\n",
            "\n"
          ]
        }
      ]
    },
    {
      "cell_type": "code",
      "source": [
        "df.show()"
      ],
      "metadata": {
        "colab": {
          "base_uri": "https://localhost:8080/"
        },
        "id": "2ZvwKZknhMU6",
        "outputId": "5e88c59d-7609-4662-b933-3b17dd6d5108"
      },
      "execution_count": null,
      "outputs": [
        {
          "output_type": "stream",
          "name": "stdout",
          "text": [
            "+---+-------+---+\n",
            "| id|   name|age|\n",
            "+---+-------+---+\n",
            "|  1|  Alice| 25|\n",
            "|  2|    Bob| 30|\n",
            "|  3|Charlie| 35|\n",
            "|  4|  David| 40|\n",
            "|  5|    Eva| 45|\n",
            "+---+-------+---+\n",
            "\n"
          ]
        }
      ]
    },
    {
      "cell_type": "code",
      "source": [
        "df.orderBy([\"age\",\"name\"]).show()"
      ],
      "metadata": {
        "colab": {
          "base_uri": "https://localhost:8080/"
        },
        "id": "7cnUPEAog_zu",
        "outputId": "c526bc61-aa62-4717-f195-24507a63daac"
      },
      "execution_count": null,
      "outputs": [
        {
          "output_type": "stream",
          "name": "stdout",
          "text": [
            "+---+-------+---+\n",
            "| id|   name|age|\n",
            "+---+-------+---+\n",
            "|  1|  Alice| 25|\n",
            "|  2|    Bob| 30|\n",
            "|  3|Charlie| 35|\n",
            "|  4|  David| 40|\n",
            "|  5|    Eva| 45|\n",
            "+---+-------+---+\n",
            "\n"
          ]
        }
      ]
    },
    {
      "cell_type": "code",
      "source": [
        "df.orderBy(col(\"name\").asc(), col(\"age\").desc()).show()"
      ],
      "metadata": {
        "colab": {
          "base_uri": "https://localhost:8080/"
        },
        "id": "2rsyMP81hO_C",
        "outputId": "ec8a0d80-2abc-47a1-f0d2-9c71d373147b"
      },
      "execution_count": null,
      "outputs": [
        {
          "output_type": "stream",
          "name": "stdout",
          "text": [
            "+---+-------+---+\n",
            "| id|   name|age|\n",
            "+---+-------+---+\n",
            "|  1|  Alice| 25|\n",
            "|  2|    Bob| 30|\n",
            "|  3|Charlie| 35|\n",
            "|  4|  David| 40|\n",
            "|  5|    Eva| 45|\n",
            "+---+-------+---+\n",
            "\n"
          ]
        }
      ]
    },
    {
      "cell_type": "code",
      "source": [
        "from pyspark.sql.functions import rand\n",
        "\n",
        "df.orderBy(rand()).show()   # random sort -- shuffle\n"
      ],
      "metadata": {
        "colab": {
          "base_uri": "https://localhost:8080/"
        },
        "id": "9P1_xss_hX36",
        "outputId": "6cac7cad-7b2f-4b93-a9d4-87565206c828"
      },
      "execution_count": null,
      "outputs": [
        {
          "output_type": "stream",
          "name": "stdout",
          "text": [
            "+---+-------+---+\n",
            "| id|   name|age|\n",
            "+---+-------+---+\n",
            "|  2|    Bob| 30|\n",
            "|  5|    Eva| 45|\n",
            "|  4|  David| 40|\n",
            "|  3|Charlie| 35|\n",
            "|  1|  Alice| 25|\n",
            "+---+-------+---+\n",
            "\n"
          ]
        }
      ]
    },
    {
      "cell_type": "code",
      "source": [
        "from pyspark.sql import SparkSession\n",
        "\n",
        "sss = SparkSession.builder.appName(\"sparksql\").getOrCreate()"
      ],
      "metadata": {
        "id": "TX2LIoabhf0F"
      },
      "execution_count": null,
      "outputs": []
    },
    {
      "cell_type": "code",
      "source": [
        "sss"
      ],
      "metadata": {
        "colab": {
          "base_uri": "https://localhost:8080/",
          "height": 224
        },
        "id": "CW7qNMaWiKqz",
        "outputId": "f00c99c9-cfb6-4954-a082-2782c45d05bd"
      },
      "execution_count": null,
      "outputs": [
        {
          "output_type": "execute_result",
          "data": {
            "text/plain": [
              "<pyspark.sql.session.SparkSession at 0x7f70f8924d10>"
            ],
            "text/html": [
              "\n",
              "            <div>\n",
              "                <p><b>SparkSession - in-memory</b></p>\n",
              "                \n",
              "        <div>\n",
              "            <p><b>SparkContext</b></p>\n",
              "\n",
              "            <p><a href=\"http://f1863b998953:4040\">Spark UI</a></p>\n",
              "\n",
              "            <dl>\n",
              "              <dt>Version</dt>\n",
              "                <dd><code>v3.5.1</code></dd>\n",
              "              <dt>Master</dt>\n",
              "                <dd><code>local[*]</code></dd>\n",
              "              <dt>AppName</dt>\n",
              "                <dd><code>sparkdf</code></dd>\n",
              "            </dl>\n",
              "        </div>\n",
              "        \n",
              "            </div>\n",
              "        "
            ]
          },
          "metadata": {},
          "execution_count": 83
        }
      ]
    },
    {
      "cell_type": "code",
      "source": [
        "data = [\n",
        "    (1, \"Alice\", 29),\n",
        "    (2, \"Bob\", 31),\n",
        "    (3, \"Cathy\", 27),\n",
        "    (4, \"David\", 35)\n",
        "]\n",
        "cols = [\"id\", \"name\",\"age\"]"
      ],
      "metadata": {
        "id": "PXdQzxWViLhM"
      },
      "execution_count": null,
      "outputs": []
    },
    {
      "cell_type": "code",
      "source": [
        "dff = sss.createDataFrame(data, cols)\n",
        "dff.show()"
      ],
      "metadata": {
        "colab": {
          "base_uri": "https://localhost:8080/"
        },
        "id": "ROU0ws1riREI",
        "outputId": "de22c446-3851-4ca8-b1ff-95dc3c495f7f"
      },
      "execution_count": null,
      "outputs": [
        {
          "output_type": "stream",
          "name": "stdout",
          "text": [
            "+---+-----+---+\n",
            "| id| name|age|\n",
            "+---+-----+---+\n",
            "|  1|Alice| 29|\n",
            "|  2|  Bob| 31|\n",
            "|  3|Cathy| 27|\n",
            "|  4|David| 35|\n",
            "+---+-----+---+\n",
            "\n"
          ]
        }
      ]
    },
    {
      "cell_type": "code",
      "source": [
        "# temp view\n",
        "\n",
        "dff.createOrReplaceTempView(\"temp\")"
      ],
      "metadata": {
        "id": "o9Am-Fn2ihS1"
      },
      "execution_count": null,
      "outputs": []
    },
    {
      "cell_type": "code",
      "source": [
        "dff"
      ],
      "metadata": {
        "colab": {
          "base_uri": "https://localhost:8080/"
        },
        "id": "Y2pCdbEGi0b7",
        "outputId": "97e62c37-24a8-4bb3-df21-5ac3d2d4768e"
      },
      "execution_count": null,
      "outputs": [
        {
          "output_type": "execute_result",
          "data": {
            "text/plain": [
              "DataFrame[id: bigint, name: string, age: bigint]"
            ]
          },
          "metadata": {},
          "execution_count": 89
        }
      ]
    },
    {
      "cell_type": "code",
      "source": [
        "res= sss.sql(\"select * from temp\")\n",
        "res.show()"
      ],
      "metadata": {
        "colab": {
          "base_uri": "https://localhost:8080/"
        },
        "id": "ByFMZbVEi2qp",
        "outputId": "009dc112-acad-4a2d-8ec1-d1b73dc3c1f8"
      },
      "execution_count": null,
      "outputs": [
        {
          "output_type": "stream",
          "name": "stdout",
          "text": [
            "+---+-----+---+\n",
            "| id| name|age|\n",
            "+---+-----+---+\n",
            "|  1|Alice| 29|\n",
            "|  2|  Bob| 31|\n",
            "|  3|Cathy| 27|\n",
            "|  4|David| 35|\n",
            "+---+-----+---+\n",
            "\n"
          ]
        }
      ]
    },
    {
      "cell_type": "code",
      "source": [
        "res= sss.sql(\"select * from temp where age >30\")\n",
        "res.show()"
      ],
      "metadata": {
        "colab": {
          "base_uri": "https://localhost:8080/"
        },
        "id": "gaAkurfBi9C9",
        "outputId": "1a120c11-49ba-49b3-9537-57ccff25ce42"
      },
      "execution_count": null,
      "outputs": [
        {
          "output_type": "stream",
          "name": "stdout",
          "text": [
            "+---+-----+---+\n",
            "| id| name|age|\n",
            "+---+-----+---+\n",
            "|  2|  Bob| 31|\n",
            "|  4|David| 35|\n",
            "+---+-----+---+\n",
            "\n"
          ]
        }
      ]
    },
    {
      "cell_type": "code",
      "source": [
        "# Temp View (session-scoped) ---> Only available inside the current SparkSession.\n",
        "# Global Temp View (cross-session) ----> Query requires global_temp database prefix"
      ],
      "metadata": {
        "id": "vRKSU97AjN9i"
      },
      "execution_count": null,
      "outputs": []
    },
    {
      "cell_type": "code",
      "source": [
        "dff.createGlobalTempView(\"temp2\")"
      ],
      "metadata": {
        "id": "CbN3u_Lejp6S"
      },
      "execution_count": null,
      "outputs": []
    },
    {
      "cell_type": "code",
      "source": [
        "res= sss.sql(\"select * from global_temp.temp2 where age >30\")\n",
        "res.show()"
      ],
      "metadata": {
        "colab": {
          "base_uri": "https://localhost:8080/"
        },
        "id": "qml8u3DgjylI",
        "outputId": "19451ebc-a9cf-4867-c96a-ff847fbbc8e8"
      },
      "execution_count": null,
      "outputs": [
        {
          "output_type": "stream",
          "name": "stdout",
          "text": [
            "+---+-----+---+\n",
            "| id| name|age|\n",
            "+---+-----+---+\n",
            "|  2|  Bob| 31|\n",
            "|  4|David| 35|\n",
            "+---+-----+---+\n",
            "\n"
          ]
        }
      ]
    },
    {
      "cell_type": "code",
      "source": [
        "type(res)"
      ],
      "metadata": {
        "colab": {
          "base_uri": "https://localhost:8080/",
          "height": 186
        },
        "id": "SbkLoEifj3rA",
        "outputId": "5ef10063-2c55-4e00-e022-1d9057ead9d5"
      },
      "execution_count": null,
      "outputs": [
        {
          "output_type": "execute_result",
          "data": {
            "text/plain": [
              "pyspark.sql.dataframe.DataFrame"
            ],
            "text/html": [
              "<div style=\"max-width:800px; border: 1px solid var(--colab-border-color);\"><style>\n",
              "      pre.function-repr-contents {\n",
              "        overflow-x: auto;\n",
              "        padding: 8px 12px;\n",
              "        max-height: 500px;\n",
              "      }\n",
              "\n",
              "      pre.function-repr-contents.function-repr-contents-collapsed {\n",
              "        cursor: pointer;\n",
              "        max-height: 100px;\n",
              "      }\n",
              "    </style>\n",
              "    <pre style=\"white-space: initial; background:\n",
              "         var(--colab-secondary-surface-color); padding: 8px 12px;\n",
              "         border-bottom: 1px solid var(--colab-border-color);\"><b>pyspark.sql.dataframe.DataFrame</b><br/>def __init__(jdf: JavaObject, sql_ctx: Union[&#x27;SQLContext&#x27;, &#x27;SparkSession&#x27;])</pre><pre class=\"function-repr-contents function-repr-contents-collapsed\" style=\"\"><a class=\"filepath\" style=\"display:none\" href=\"#\">/usr/local/lib/python3.12/dist-packages/pyspark/sql/dataframe.py</a>A distributed collection of data grouped into named columns.\n",
              "\n",
              ".. versionadded:: 1.3.0\n",
              "\n",
              ".. versionchanged:: 3.4.0\n",
              "    Supports Spark Connect.\n",
              "\n",
              "Examples\n",
              "--------\n",
              "A :class:`DataFrame` is equivalent to a relational table in Spark SQL,\n",
              "and can be created using various functions in :class:`SparkSession`:\n",
              "\n",
              "&gt;&gt;&gt; people = spark.createDataFrame([\n",
              "...     {&quot;deptId&quot;: 1, &quot;age&quot;: 40, &quot;name&quot;: &quot;Hyukjin Kwon&quot;, &quot;gender&quot;: &quot;M&quot;, &quot;salary&quot;: 50},\n",
              "...     {&quot;deptId&quot;: 1, &quot;age&quot;: 50, &quot;name&quot;: &quot;Takuya Ueshin&quot;, &quot;gender&quot;: &quot;M&quot;, &quot;salary&quot;: 100},\n",
              "...     {&quot;deptId&quot;: 2, &quot;age&quot;: 60, &quot;name&quot;: &quot;Xinrong Meng&quot;, &quot;gender&quot;: &quot;F&quot;, &quot;salary&quot;: 150},\n",
              "...     {&quot;deptId&quot;: 3, &quot;age&quot;: 20, &quot;name&quot;: &quot;Haejoon Lee&quot;, &quot;gender&quot;: &quot;M&quot;, &quot;salary&quot;: 200}\n",
              "... ])\n",
              "\n",
              "Once created, it can be manipulated using the various domain-specific-language\n",
              "(DSL) functions defined in: :class:`DataFrame`, :class:`Column`.\n",
              "\n",
              "To select a column from the :class:`DataFrame`, use the apply method:\n",
              "\n",
              "&gt;&gt;&gt; age_col = people.age\n",
              "\n",
              "A more concrete example:\n",
              "\n",
              "&gt;&gt;&gt; # To create DataFrame using SparkSession\n",
              "... department = spark.createDataFrame([\n",
              "...     {&quot;id&quot;: 1, &quot;name&quot;: &quot;PySpark&quot;},\n",
              "...     {&quot;id&quot;: 2, &quot;name&quot;: &quot;ML&quot;},\n",
              "...     {&quot;id&quot;: 3, &quot;name&quot;: &quot;Spark SQL&quot;}\n",
              "... ])\n",
              "\n",
              "&gt;&gt;&gt; people.filter(people.age &gt; 30).join(\n",
              "...     department, people.deptId == department.id).groupBy(\n",
              "...     department.name, &quot;gender&quot;).agg({&quot;salary&quot;: &quot;avg&quot;, &quot;age&quot;: &quot;max&quot;}).show()\n",
              "+-------+------+-----------+--------+\n",
              "|   name|gender|avg(salary)|max(age)|\n",
              "+-------+------+-----------+--------+\n",
              "|     ML|     F|      150.0|      60|\n",
              "|PySpark|     M|       75.0|      50|\n",
              "+-------+------+-----------+--------+\n",
              "\n",
              "Notes\n",
              "-----\n",
              "A DataFrame should only be created as described above. It should not be directly\n",
              "created via using the constructor.</pre>\n",
              "      <script>\n",
              "      if (google.colab.kernel.accessAllowed && google.colab.files && google.colab.files.view) {\n",
              "        for (const element of document.querySelectorAll('.filepath')) {\n",
              "          element.style.display = 'block'\n",
              "          element.onclick = (event) => {\n",
              "            event.preventDefault();\n",
              "            event.stopPropagation();\n",
              "            google.colab.files.view(element.textContent, 80);\n",
              "          };\n",
              "        }\n",
              "      }\n",
              "      for (const element of document.querySelectorAll('.function-repr-contents')) {\n",
              "        element.onclick = (event) => {\n",
              "          event.preventDefault();\n",
              "          event.stopPropagation();\n",
              "          element.classList.toggle('function-repr-contents-collapsed');\n",
              "        };\n",
              "      }\n",
              "      </script>\n",
              "      </div>"
            ]
          },
          "metadata": {},
          "execution_count": 99
        }
      ]
    },
    {
      "cell_type": "code",
      "source": [
        "from pyspark.sql import SparkSession\n",
        "\n",
        "sess = SparkSession.builder.appName(\"demo3\").getOrCreate()"
      ],
      "metadata": {
        "id": "rQHqKYn3ef8q"
      },
      "execution_count": null,
      "outputs": []
    },
    {
      "cell_type": "code",
      "source": [
        "# explicit schema"
      ],
      "metadata": {
        "id": "8P56qCOrkSkz"
      },
      "execution_count": null,
      "outputs": []
    },
    {
      "cell_type": "code",
      "source": [
        "from pyspark.sql.types import StructType, StructField, IntegerType, StringType\n",
        "\n",
        "schema = StructType([\n",
        "    StructField(\"id\", IntegerType(), True),\n",
        "    StructField(\"age\", IntegerType(), True),\n",
        "    StructField(\"gender\", StringType(), True),\n",
        "    StructField(\"salary\", IntegerType(), True),\n",
        "])\n",
        "\n",
        "dff = sess.read.option(\"header\",\"true\").schema(schema).csv(\"/content/employee.csv\")\n",
        "dff.show()"
      ],
      "metadata": {
        "id": "FcrTM-Ezdwc-",
        "colab": {
          "base_uri": "https://localhost:8080/"
        },
        "outputId": "c1f2c77a-8f9b-4264-a11a-602efcc5b023"
      },
      "execution_count": null,
      "outputs": [
        {
          "output_type": "stream",
          "name": "stdout",
          "text": [
            "+---+---+------+------+\n",
            "| id|age|gender|salary|\n",
            "+---+---+------+------+\n",
            "|  1| 34|     0| 35760|\n",
            "|  2| 21|     0| 23500|\n",
            "|  3| 59|     1| 21000|\n",
            "|  4| 45|     1| 45000|\n",
            "|  5| 37|     0| 67050|\n",
            "|  6| 26|     1| 37900|\n",
            "|  7| 27|     0| 35800|\n",
            "|  8| 39|     1| 45000|\n",
            "|  9| 25|     1| 23060|\n",
            "| 10| 67|     1| 39080|\n",
            "| 11| 23|     0| 70900|\n",
            "| 12| 57|     1| 29208|\n",
            "| 13| 34|     0| 45000|\n",
            "| 14| 45|     1| 24550|\n",
            "| 15| 45|     0| 23080|\n",
            "+---+---+------+------+\n",
            "\n"
          ]
        }
      ]
    },
    {
      "cell_type": "code",
      "source": [
        "dff.printSchema()"
      ],
      "metadata": {
        "colab": {
          "base_uri": "https://localhost:8080/"
        },
        "id": "TEyKB_LIfvtL",
        "outputId": "a047ffa0-5c48-45e3-da84-244f98dec7be"
      },
      "execution_count": null,
      "outputs": [
        {
          "output_type": "stream",
          "name": "stdout",
          "text": [
            "root\n",
            " |-- id: integer (nullable = true)\n",
            " |-- age: integer (nullable = true)\n",
            " |-- gender: string (nullable = true)\n",
            " |-- salary: integer (nullable = true)\n",
            "\n"
          ]
        }
      ]
    },
    {
      "cell_type": "code",
      "source": [],
      "metadata": {
        "id": "zkhiD8mvgneO"
      },
      "execution_count": null,
      "outputs": []
    }
  ]
}