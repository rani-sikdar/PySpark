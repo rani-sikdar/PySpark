{
  "nbformat": 4,
  "nbformat_minor": 0,
  "metadata": {
    "colab": {
      "provenance": [],
      "authorship_tag": "ABX9TyOhKCvUKWMaWiLiUrMNAj7B",
      "include_colab_link": true
    },
    "kernelspec": {
      "name": "python3",
      "display_name": "Python 3"
    },
    "language_info": {
      "name": "python"
    }
  },
  "cells": [
    {
      "cell_type": "markdown",
      "metadata": {
        "id": "view-in-github",
        "colab_type": "text"
      },
      "source": [
        "<a href=\"https://colab.research.google.com/github/rani-sikdar/PySpark/blob/main/pyspark_intermediate.ipynb\" target=\"_parent\"><img src=\"https://colab.research.google.com/assets/colab-badge.svg\" alt=\"Open In Colab\"/></a>"
      ]
    },
    {
      "cell_type": "code",
      "execution_count": null,
      "metadata": {
        "colab": {
          "base_uri": "https://localhost:8080/",
          "height": 224
        },
        "id": "eAR_U_1RsvfV",
        "outputId": "c969453a-dec8-45f1-b9b7-91dab23ad25c"
      },
      "outputs": [
        {
          "output_type": "execute_result",
          "data": {
            "text/plain": [
              "<pyspark.sql.session.SparkSession at 0x7b2ba0cebb00>"
            ],
            "text/html": [
              "\n",
              "            <div>\n",
              "                <p><b>SparkSession - in-memory</b></p>\n",
              "                \n",
              "        <div>\n",
              "            <p><b>SparkContext</b></p>\n",
              "\n",
              "            <p><a href=\"http://02379665b2fb:4040\">Spark UI</a></p>\n",
              "\n",
              "            <dl>\n",
              "              <dt>Version</dt>\n",
              "                <dd><code>v3.5.1</code></dd>\n",
              "              <dt>Master</dt>\n",
              "                <dd><code>local[*]</code></dd>\n",
              "              <dt>AppName</dt>\n",
              "                <dd><code>demo1</code></dd>\n",
              "            </dl>\n",
              "        </div>\n",
              "        \n",
              "            </div>\n",
              "        "
            ]
          },
          "metadata": {},
          "execution_count": 1
        }
      ],
      "source": [
        "from pyspark.sql import SparkSession\n",
        "\n",
        "sess = SparkSession.builder.appName(\"demo1\").getOrCreate()\n",
        "sess"
      ]
    },
    {
      "cell_type": "code",
      "source": [
        "d = [\n",
        "    (1, 'aaa', 25),\n",
        "    (2, 'bbb', 10),\n",
        "    (3, 'ccc', 15),\n",
        "    (4, 'ddd', 20)\n",
        "]\n",
        "\n",
        "col = ['id', 'name', 'marks']"
      ],
      "metadata": {
        "id": "vbsjzNgSswrK"
      },
      "execution_count": null,
      "outputs": []
    },
    {
      "cell_type": "code",
      "source": [
        "df = sess.createDataFrame(d, col)\n",
        "df.show()"
      ],
      "metadata": {
        "colab": {
          "base_uri": "https://localhost:8080/"
        },
        "id": "C2Zo9sfmswo2",
        "outputId": "3cd6e779-5250-4818-9e76-f2fb5b4f923b"
      },
      "execution_count": null,
      "outputs": [
        {
          "output_type": "stream",
          "name": "stdout",
          "text": [
            "+---+----+-----+\n",
            "| id|name|marks|\n",
            "+---+----+-----+\n",
            "|  1| aaa|   25|\n",
            "|  2| bbb|   10|\n",
            "|  3| ccc|   15|\n",
            "|  4| ddd|   20|\n",
            "+---+----+-----+\n",
            "\n"
          ]
        }
      ]
    },
    {
      "cell_type": "code",
      "source": [
        "df.sort('marks').show()"
      ],
      "metadata": {
        "colab": {
          "base_uri": "https://localhost:8080/"
        },
        "id": "3JcrG2gAswmi",
        "outputId": "5f3cc582-5540-4399-b1d4-570ebf2b3926"
      },
      "execution_count": null,
      "outputs": [
        {
          "output_type": "stream",
          "name": "stdout",
          "text": [
            "+---+----+-----+\n",
            "| id|name|marks|\n",
            "+---+----+-----+\n",
            "|  2| bbb|   10|\n",
            "|  3| ccc|   15|\n",
            "|  4| ddd|   20|\n",
            "|  1| aaa|   25|\n",
            "+---+----+-----+\n",
            "\n"
          ]
        }
      ]
    },
    {
      "cell_type": "code",
      "source": [
        "df.orderBy('marks').show()  # by default asc"
      ],
      "metadata": {
        "colab": {
          "base_uri": "https://localhost:8080/"
        },
        "id": "3IBpK-WYswj0",
        "outputId": "4ad95d3d-eb92-423d-87d0-9ccd21f616d1"
      },
      "execution_count": null,
      "outputs": [
        {
          "output_type": "stream",
          "name": "stdout",
          "text": [
            "+---+----+-----+\n",
            "| id|name|marks|\n",
            "+---+----+-----+\n",
            "|  2| bbb|   10|\n",
            "|  3| ccc|   15|\n",
            "|  4| ddd|   20|\n",
            "|  1| aaa|   25|\n",
            "+---+----+-----+\n",
            "\n"
          ]
        }
      ]
    },
    {
      "cell_type": "code",
      "source": [
        "from pyspark.sql.functions import col\n",
        "\n",
        "df.orderBy(col('marks').desc()).show()"
      ],
      "metadata": {
        "colab": {
          "base_uri": "https://localhost:8080/"
        },
        "id": "JRCY0ydoswg7",
        "outputId": "7f611511-da88-4f3d-ae02-38d51662e135"
      },
      "execution_count": null,
      "outputs": [
        {
          "output_type": "stream",
          "name": "stdout",
          "text": [
            "+---+----+-----+\n",
            "| id|name|marks|\n",
            "+---+----+-----+\n",
            "|  1| aaa|   25|\n",
            "|  4| ddd|   20|\n",
            "|  3| ccc|   15|\n",
            "|  2| bbb|   10|\n",
            "+---+----+-----+\n",
            "\n"
          ]
        }
      ]
    },
    {
      "cell_type": "code",
      "source": [
        "df.sort(df.marks.desc()).show()"
      ],
      "metadata": {
        "colab": {
          "base_uri": "https://localhost:8080/"
        },
        "id": "hRneZVM8swe5",
        "outputId": "0d6cdb65-b4de-416a-9bab-291e71b4578d"
      },
      "execution_count": null,
      "outputs": [
        {
          "output_type": "stream",
          "name": "stdout",
          "text": [
            "+---+----+-----+\n",
            "| id|name|marks|\n",
            "+---+----+-----+\n",
            "|  1| aaa|   25|\n",
            "|  4| ddd|   20|\n",
            "|  3| ccc|   15|\n",
            "|  2| bbb|   10|\n",
            "+---+----+-----+\n",
            "\n"
          ]
        }
      ]
    },
    {
      "cell_type": "code",
      "source": [
        "df.orderBy(['marks','id']).show()"
      ],
      "metadata": {
        "colab": {
          "base_uri": "https://localhost:8080/"
        },
        "id": "bX-ODvTIswcE",
        "outputId": "05030b7f-6001-4c38-855a-763c9f3a200f"
      },
      "execution_count": null,
      "outputs": [
        {
          "output_type": "stream",
          "name": "stdout",
          "text": [
            "+---+----+-----+\n",
            "| id|name|marks|\n",
            "+---+----+-----+\n",
            "|  2| bbb|   10|\n",
            "|  3| ccc|   15|\n",
            "|  4| ddd|   20|\n",
            "|  1| aaa|   25|\n",
            "+---+----+-----+\n",
            "\n"
          ]
        }
      ]
    },
    {
      "cell_type": "markdown",
      "source": [
        "#### UDF `user defined functions`"
      ],
      "metadata": {
        "id": "lg7B5o45to7m"
      }
    },
    {
      "cell_type": "code",
      "source": [
        "from pyspark.sql.functions import udf\n",
        "from pyspark.sql.types import StringType, IntegerType"
      ],
      "metadata": {
        "id": "l2AAC2bGswZZ"
      },
      "execution_count": null,
      "outputs": []
    },
    {
      "cell_type": "code",
      "source": [
        "def to_upper(name):\n",
        "  return name.upper() if name else None\n"
      ],
      "metadata": {
        "id": "-hKQvEbSuJCX"
      },
      "execution_count": null,
      "outputs": []
    },
    {
      "cell_type": "code",
      "source": [
        "to_upper_udf = udf(to_upper, StringType())"
      ],
      "metadata": {
        "id": "COAnLsE7swWw"
      },
      "execution_count": null,
      "outputs": []
    },
    {
      "cell_type": "code",
      "source": [
        "d = [('aaa',), ('bbb',), ('ccc',), ('ddd',)]\n",
        "\n",
        "df = sess.createDataFrame(d, ['name'])\n",
        "df.show()"
      ],
      "metadata": {
        "colab": {
          "base_uri": "https://localhost:8080/"
        },
        "id": "IuJjaubGswUO",
        "outputId": "c3fb49bf-9398-4a74-f699-dea6463b2c96"
      },
      "execution_count": null,
      "outputs": [
        {
          "output_type": "stream",
          "name": "stdout",
          "text": [
            "+----+\n",
            "|name|\n",
            "+----+\n",
            "| aaa|\n",
            "| bbb|\n",
            "| ccc|\n",
            "| ddd|\n",
            "+----+\n",
            "\n"
          ]
        }
      ]
    },
    {
      "cell_type": "code",
      "source": [
        "df.withColumn(\"upper_name\",to_upper_udf(df.name)).show()"
      ],
      "metadata": {
        "colab": {
          "base_uri": "https://localhost:8080/"
        },
        "id": "pVT_MmxdswRk",
        "outputId": "7bbd3115-9852-458f-a991-2ee4f2a8655d"
      },
      "execution_count": null,
      "outputs": [
        {
          "output_type": "stream",
          "name": "stdout",
          "text": [
            "+----+----------+\n",
            "|name|upper_name|\n",
            "+----+----------+\n",
            "| aaa|       AAA|\n",
            "| bbb|       BBB|\n",
            "| ccc|       CCC|\n",
            "| ddd|       DDD|\n",
            "+----+----------+\n",
            "\n"
          ]
        }
      ]
    },
    {
      "cell_type": "markdown",
      "source": [
        "### Using UDF in Spark SQL\n"
      ],
      "metadata": {
        "id": "CeA1YisqvPDX"
      }
    },
    {
      "cell_type": "code",
      "source": [
        "sess.udf.register(\"to_upper_udf\", to_upper, StringType())"
      ],
      "metadata": {
        "colab": {
          "base_uri": "https://localhost:8080/",
          "height": 103
        },
        "id": "QxhFWPtWswO3",
        "outputId": "1dd97b67-ec50-4dcc-8208-317bb1a5ef6b"
      },
      "execution_count": null,
      "outputs": [
        {
          "output_type": "execute_result",
          "data": {
            "text/plain": [
              "<function __main__.to_upper(name)>"
            ],
            "text/html": [
              "<div style=\"max-width:800px; border: 1px solid var(--colab-border-color);\"><style>\n",
              "      pre.function-repr-contents {\n",
              "        overflow-x: auto;\n",
              "        padding: 8px 12px;\n",
              "        max-height: 500px;\n",
              "      }\n",
              "\n",
              "      pre.function-repr-contents.function-repr-contents-collapsed {\n",
              "        cursor: pointer;\n",
              "        max-height: 100px;\n",
              "      }\n",
              "    </style>\n",
              "    <pre style=\"white-space: initial; background:\n",
              "         var(--colab-secondary-surface-color); padding: 8px 12px;\n",
              "         border-bottom: 1px solid var(--colab-border-color);\"><b>to_upper</b><br/>def to_upper(name)</pre><pre class=\"function-repr-contents function-repr-contents-collapsed\" style=\"\"><a class=\"filepath\" style=\"display:none\" href=\"#\">/tmp/ipython-input-69037663.py</a>&lt;no docstring&gt;</pre></div>"
            ]
          },
          "metadata": {},
          "execution_count": 14
        }
      ]
    },
    {
      "cell_type": "code",
      "source": [
        "df.createOrReplaceTempView(\"temp\")"
      ],
      "metadata": {
        "id": "tofvO7huswMN"
      },
      "execution_count": null,
      "outputs": []
    },
    {
      "cell_type": "code",
      "source": [
        "sess.sql(\"select * from temp\").show()"
      ],
      "metadata": {
        "colab": {
          "base_uri": "https://localhost:8080/"
        },
        "id": "-JDUekgxwTef",
        "outputId": "961fd8be-1ce8-41d8-cab8-5182376ac558"
      },
      "execution_count": null,
      "outputs": [
        {
          "output_type": "stream",
          "name": "stdout",
          "text": [
            "+----+\n",
            "|name|\n",
            "+----+\n",
            "| aaa|\n",
            "| bbb|\n",
            "| ccc|\n",
            "| ddd|\n",
            "+----+\n",
            "\n"
          ]
        }
      ]
    },
    {
      "cell_type": "code",
      "source": [
        "sess.sql(\"select name, to_upper_udf(name) as upper_name from temp\").show()"
      ],
      "metadata": {
        "colab": {
          "base_uri": "https://localhost:8080/"
        },
        "id": "FO0bMbyzwau3",
        "outputId": "81a45ab0-f36c-4df9-cc30-9099f64299f4"
      },
      "execution_count": null,
      "outputs": [
        {
          "output_type": "stream",
          "name": "stdout",
          "text": [
            "+----+----------+\n",
            "|name|upper_name|\n",
            "+----+----------+\n",
            "| aaa|       AAA|\n",
            "| bbb|       BBB|\n",
            "| ccc|       CCC|\n",
            "| ddd|       DDD|\n",
            "+----+----------+\n",
            "\n"
          ]
        }
      ]
    },
    {
      "cell_type": "markdown",
      "source": [
        "### pandas udf"
      ],
      "metadata": {
        "id": "OJy4NHaOxYIH"
      }
    },
    {
      "cell_type": "code",
      "source": [
        "import pandas as pd\n",
        "from pyspark.sql.functions import pandas_udf\n",
        "from pyspark.sql.types import StringType\n"
      ],
      "metadata": {
        "id": "rd2eU8dCw0s8"
      },
      "execution_count": null,
      "outputs": []
    },
    {
      "cell_type": "code",
      "source": [
        "# pandas UDF (vectorized)\n",
        "\n",
        "@pandas_udf(StringType())\n",
        "def to_upper_pandas(name):\n",
        "    return name.str.upper()"
      ],
      "metadata": {
        "id": "ASyCKSXHxeKT"
      },
      "execution_count": null,
      "outputs": []
    },
    {
      "cell_type": "code",
      "source": [
        "df.withColumn(\"upper_name\", to_upper_pandas(\"name\")).show()"
      ],
      "metadata": {
        "colab": {
          "base_uri": "https://localhost:8080/"
        },
        "id": "26nOaF70xr0q",
        "outputId": "d11d90fd-32df-4822-e806-1438d4b6ffcb"
      },
      "execution_count": null,
      "outputs": [
        {
          "output_type": "stream",
          "name": "stdout",
          "text": [
            "+----+----------+\n",
            "|name|upper_name|\n",
            "+----+----------+\n",
            "| aaa|       AAA|\n",
            "| bbb|       BBB|\n",
            "| ccc|       CCC|\n",
            "| ddd|       DDD|\n",
            "+----+----------+\n",
            "\n"
          ]
        }
      ]
    },
    {
      "cell_type": "code",
      "source": [
        "df.rdd.getNumPartitions()"
      ],
      "metadata": {
        "colab": {
          "base_uri": "https://localhost:8080/"
        },
        "id": "ZvlzQosQxtrV",
        "outputId": "792e9550-d664-4132-f44d-15b9f05df38e"
      },
      "execution_count": null,
      "outputs": [
        {
          "output_type": "execute_result",
          "data": {
            "text/plain": [
              "2"
            ]
          },
          "metadata": {},
          "execution_count": 21
        }
      ]
    },
    {
      "cell_type": "code",
      "source": [
        "# increase partitions\n",
        "\n",
        "df =df.repartition(10)"
      ],
      "metadata": {
        "id": "5HRm1ase7TQK"
      },
      "execution_count": null,
      "outputs": []
    },
    {
      "cell_type": "code",
      "source": [
        "df.rdd.getNumPartitions()"
      ],
      "metadata": {
        "colab": {
          "base_uri": "https://localhost:8080/"
        },
        "id": "l18qCSq97h0O",
        "outputId": "8db52032-cf88-43c3-9a3a-5ec1c25fafe1"
      },
      "execution_count": null,
      "outputs": [
        {
          "output_type": "execute_result",
          "data": {
            "text/plain": [
              "10"
            ]
          },
          "metadata": {},
          "execution_count": 23
        }
      ]
    },
    {
      "cell_type": "code",
      "source": [
        "df3 = df.coalesce(2)"
      ],
      "metadata": {
        "id": "r96JVKsa7jtd"
      },
      "execution_count": null,
      "outputs": []
    },
    {
      "cell_type": "code",
      "source": [
        "df3.rdd.getNumPartitions()"
      ],
      "metadata": {
        "colab": {
          "base_uri": "https://localhost:8080/"
        },
        "id": "SrdjL_RgJtxF",
        "outputId": "5fa2e24c-3957-4710-d0cb-40c24388042f"
      },
      "execution_count": null,
      "outputs": [
        {
          "output_type": "execute_result",
          "data": {
            "text/plain": [
              "2"
            ]
          },
          "metadata": {},
          "execution_count": 25
        }
      ]
    },
    {
      "cell_type": "code",
      "source": [
        "# Partition by column when writing:\n",
        "\n",
        "df.write.partitionBy(\"column name\").parquet(\"output/path/\")"
      ],
      "metadata": {
        "id": "L3W5sRoFJyUv"
      },
      "execution_count": null,
      "outputs": []
    },
    {
      "cell_type": "code",
      "source": [
        "df.rdd.glom().map(len).collect()"
      ],
      "metadata": {
        "colab": {
          "base_uri": "https://localhost:8080/"
        },
        "id": "PXh2Sj9FKCIE",
        "outputId": "e87df8b9-16df-4ea0-b252-903025efd42c"
      },
      "execution_count": null,
      "outputs": [
        {
          "output_type": "execute_result",
          "data": {
            "text/plain": [
              "[1, 0, 0, 0, 1, 1, 0, 0, 0, 1]"
            ]
          },
          "metadata": {},
          "execution_count": 27
        }
      ]
    },
    {
      "cell_type": "code",
      "source": [
        "df2 = df.repartition(20)\n",
        "df2.rdd.glom().map(len).collect()"
      ],
      "metadata": {
        "colab": {
          "base_uri": "https://localhost:8080/"
        },
        "id": "ImQiS-R2L-v7",
        "outputId": "a2a9d4f9-cd7c-47fd-f8ce-eeffee2d3c1a"
      },
      "execution_count": null,
      "outputs": [
        {
          "output_type": "execute_result",
          "data": {
            "text/plain": [
              "[0, 0, 0, 0, 1, 1, 0, 0, 0, 1, 1, 0, 0, 0, 0, 0, 0, 0, 0, 0]"
            ]
          },
          "metadata": {},
          "execution_count": 28
        }
      ]
    },
    {
      "cell_type": "code",
      "source": [
        "import time\n",
        "\n",
        "df_large = sess.range(10000000)  # 10M rows\n",
        "\n",
        "# Default partitions\n",
        "start = time.time()\n",
        "df_large.groupBy(\"id\").count().collect()\n",
        "print(\"Default partition time:\", time.time() - start)\n",
        "\n",
        "# Repartition to 100 partitions\n",
        "df_large2 = df_large.repartition(100)\n",
        "start = time.time()\n",
        "df_large2.groupBy(\"id\").count().collect()\n",
        "print(\"100 partitions time:\", time.time() - start)\n"
      ],
      "metadata": {
        "colab": {
          "base_uri": "https://localhost:8080/"
        },
        "id": "_7wDU0osMFzx",
        "outputId": "ac063b17-5db2-475a-e098-5817a89b6db9"
      },
      "execution_count": null,
      "outputs": [
        {
          "output_type": "stream",
          "name": "stdout",
          "text": [
            "Default partition time: 118.18139243125916\n",
            "100 partitions time: 146.58254146575928\n"
          ]
        }
      ]
    },
    {
      "cell_type": "markdown",
      "source": [
        "### transformations vs actions"
      ],
      "metadata": {
        "id": "R7yVchxHK5q6"
      }
    },
    {
      "cell_type": "code",
      "source": [
        "from pyspark.sql import SparkSession\n",
        "\n",
        "ss = SparkSession.builder.appName('demo2').getOrCreate()\n",
        "ss"
      ],
      "metadata": {
        "colab": {
          "base_uri": "https://localhost:8080/",
          "height": 224
        },
        "id": "ztn9L0avRoYx",
        "outputId": "1524e085-0de0-4760-b378-56b196a7f17f"
      },
      "execution_count": null,
      "outputs": [
        {
          "output_type": "execute_result",
          "data": {
            "text/plain": [
              "<pyspark.sql.session.SparkSession at 0x7b2ba0cebb00>"
            ],
            "text/html": [
              "\n",
              "            <div>\n",
              "                <p><b>SparkSession - in-memory</b></p>\n",
              "                \n",
              "        <div>\n",
              "            <p><b>SparkContext</b></p>\n",
              "\n",
              "            <p><a href=\"http://02379665b2fb:4040\">Spark UI</a></p>\n",
              "\n",
              "            <dl>\n",
              "              <dt>Version</dt>\n",
              "                <dd><code>v3.5.1</code></dd>\n",
              "              <dt>Master</dt>\n",
              "                <dd><code>local[*]</code></dd>\n",
              "              <dt>AppName</dt>\n",
              "                <dd><code>demo1</code></dd>\n",
              "            </dl>\n",
              "        </div>\n",
              "        \n",
              "            </div>\n",
              "        "
            ]
          },
          "metadata": {},
          "execution_count": 30
        }
      ]
    },
    {
      "cell_type": "code",
      "source": [
        "d = [('tom',30), ('harry',25), ('charlie',27), ('david',33)]\n",
        "\n",
        "df = sess.createDataFrame(d, ['name','age'])\n",
        "df.show()"
      ],
      "metadata": {
        "colab": {
          "base_uri": "https://localhost:8080/"
        },
        "id": "_p3xmlh4Lh6q",
        "outputId": "3aaaa7f3-dc0c-46bf-8360-da42e49913d5"
      },
      "execution_count": null,
      "outputs": [
        {
          "output_type": "stream",
          "name": "stdout",
          "text": [
            "+-------+---+\n",
            "|   name|age|\n",
            "+-------+---+\n",
            "|    tom| 30|\n",
            "|  harry| 25|\n",
            "|charlie| 27|\n",
            "|  david| 33|\n",
            "+-------+---+\n",
            "\n"
          ]
        }
      ]
    },
    {
      "cell_type": "code",
      "source": [
        "# transformation\n",
        "filtered_df = df.filter(df.age>=25)  # Narrrow\n",
        "mapped_df = df.select(df.name, df.age * 2)  # Narrow\n",
        "\n",
        "grouped_df = df.groupBy(df.age).count()  # Wide"
      ],
      "metadata": {
        "id": "y4ZDaCASLz4w"
      },
      "execution_count": null,
      "outputs": []
    },
    {
      "cell_type": "code",
      "source": [
        "# Actions\n",
        "print(\"filtered_df :\",filtered_df.collect())\n",
        "print(\"count :\",df.count())\n",
        "df.show()\n",
        "df.write.csv(\"output3.csv\")\n"
      ],
      "metadata": {
        "colab": {
          "base_uri": "https://localhost:8080/"
        },
        "id": "sdH1SyAtL-bB",
        "outputId": "9a0f25b2-f082-4fbb-dca8-e85a9918b438"
      },
      "execution_count": null,
      "outputs": [
        {
          "output_type": "stream",
          "name": "stdout",
          "text": [
            "filtered_df : [Row(name='tom', age=30), Row(name='harry', age=25), Row(name='charlie', age=27), Row(name='david', age=33)]\n",
            "count : 4\n",
            "+-------+---+\n",
            "|   name|age|\n",
            "+-------+---+\n",
            "|    tom| 30|\n",
            "|  harry| 25|\n",
            "|charlie| 27|\n",
            "|  david| 33|\n",
            "+-------+---+\n",
            "\n"
          ]
        }
      ]
    },
    {
      "cell_type": "code",
      "source": [
        "data = [(\"Alice\", \"Math\", 85),\n",
        "        (\"Bob\", \"Math\", 90),\n",
        "        (\"Alice\", \"Physics\", 95),\n",
        "        (\"Bob\", \"Physics\", 80)]\n",
        "\n",
        "df = ss.createDataFrame(data, [\"name\", \"subject\", \"score\"])\n",
        "\n",
        "# Wide transformation: groupBy\n",
        "df_grouped = df.groupBy(\"name\").avg(\"score\")\n",
        "df_grouped.show()\n"
      ],
      "metadata": {
        "colab": {
          "base_uri": "https://localhost:8080/"
        },
        "id": "gSj1ELXqM3R3",
        "outputId": "6d0b30d0-31c2-4fdb-817a-37e200754dfe"
      },
      "execution_count": null,
      "outputs": [
        {
          "output_type": "stream",
          "name": "stdout",
          "text": [
            "+-----+----------+\n",
            "| name|avg(score)|\n",
            "+-----+----------+\n",
            "|  Bob|      85.0|\n",
            "|Alice|      90.0|\n",
            "+-----+----------+\n",
            "\n"
          ]
        }
      ]
    },
    {
      "cell_type": "markdown",
      "source": [
        "### actions"
      ],
      "metadata": {
        "id": "JL9UD4DHhI2t"
      }
    },
    {
      "cell_type": "code",
      "source": [
        "# collect\n",
        "rows = df.collect()\n",
        "for row in rows:\n",
        "    print(row)\n"
      ],
      "metadata": {
        "colab": {
          "base_uri": "https://localhost:8080/"
        },
        "id": "ENyFEMqMgkEf",
        "outputId": "05279e40-c4d1-4f3e-9395-a5ea06494248"
      },
      "execution_count": null,
      "outputs": [
        {
          "output_type": "stream",
          "name": "stdout",
          "text": [
            "Row(name='Alice', subject='Math', score=85)\n",
            "Row(name='Bob', subject='Math', score=90)\n",
            "Row(name='Alice', subject='Physics', score=95)\n",
            "Row(name='Bob', subject='Physics', score=80)\n"
          ]
        }
      ]
    },
    {
      "cell_type": "code",
      "source": [
        "print(df.count())"
      ],
      "metadata": {
        "colab": {
          "base_uri": "https://localhost:8080/"
        },
        "id": "fnaO4Uvog769",
        "outputId": "bfdfb255-31ff-4161-e364-4eec4b13f53e"
      },
      "execution_count": null,
      "outputs": [
        {
          "output_type": "stream",
          "name": "stdout",
          "text": [
            "4\n"
          ]
        }
      ]
    },
    {
      "cell_type": "code",
      "source": [
        "df.show()"
      ],
      "metadata": {
        "colab": {
          "base_uri": "https://localhost:8080/"
        },
        "id": "h0pRKAi3hCEP",
        "outputId": "05b64a1a-c20b-42e5-9d52-998e8af899b2"
      },
      "execution_count": null,
      "outputs": [
        {
          "output_type": "stream",
          "name": "stdout",
          "text": [
            "+-----+-------+-----+\n",
            "| name|subject|score|\n",
            "+-----+-------+-----+\n",
            "|Alice|   Math|   85|\n",
            "|  Bob|   Math|   90|\n",
            "|Alice|Physics|   95|\n",
            "|  Bob|Physics|   80|\n",
            "+-----+-------+-----+\n",
            "\n"
          ]
        }
      ]
    },
    {
      "cell_type": "code",
      "source": [
        "df.take(3)"
      ],
      "metadata": {
        "colab": {
          "base_uri": "https://localhost:8080/"
        },
        "id": "EfP_IjULhHr2",
        "outputId": "8e1a1a8a-910d-4e96-c657-c961b2815bbe"
      },
      "execution_count": null,
      "outputs": [
        {
          "output_type": "execute_result",
          "data": {
            "text/plain": [
              "[Row(name='Alice', subject='Math', score=85),\n",
              " Row(name='Bob', subject='Math', score=90),\n",
              " Row(name='Alice', subject='Physics', score=95)]"
            ]
          },
          "metadata": {},
          "execution_count": 49
        }
      ]
    },
    {
      "cell_type": "code",
      "source": [
        "df.first()"
      ],
      "metadata": {
        "colab": {
          "base_uri": "https://localhost:8080/"
        },
        "id": "Y4kp7vonhKsL",
        "outputId": "e2e14d85-a2c1-420c-cd8a-860ca3f3d088"
      },
      "execution_count": null,
      "outputs": [
        {
          "output_type": "execute_result",
          "data": {
            "text/plain": [
              "Row(name='Alice', subject='Math', score=85)"
            ]
          },
          "metadata": {},
          "execution_count": 51
        }
      ]
    },
    {
      "cell_type": "code",
      "source": [
        "from pyspark.sql import SparkSession\n",
        "from pyspark.storagelevel import StorageLevel\n",
        "\n",
        "ses = SparkSession.builder.appName('CacheVsPersist').getOrCreate()\n",
        "ses"
      ],
      "metadata": {
        "colab": {
          "base_uri": "https://localhost:8080/",
          "height": 224
        },
        "id": "FIgQhml-OaWf",
        "outputId": "553b73da-afde-4936-eab0-8d5b05e14bb8"
      },
      "execution_count": null,
      "outputs": [
        {
          "output_type": "execute_result",
          "data": {
            "text/plain": [
              "<pyspark.sql.session.SparkSession at 0x7c342813b740>"
            ],
            "text/html": [
              "\n",
              "            <div>\n",
              "                <p><b>SparkSession - in-memory</b></p>\n",
              "                \n",
              "        <div>\n",
              "            <p><b>SparkContext</b></p>\n",
              "\n",
              "            <p><a href=\"http://19a26a48bea6:4040\">Spark UI</a></p>\n",
              "\n",
              "            <dl>\n",
              "              <dt>Version</dt>\n",
              "                <dd><code>v3.5.1</code></dd>\n",
              "              <dt>Master</dt>\n",
              "                <dd><code>local[*]</code></dd>\n",
              "              <dt>AppName</dt>\n",
              "                <dd><code>caching_demo</code></dd>\n",
              "            </dl>\n",
              "        </div>\n",
              "        \n",
              "            </div>\n",
              "        "
            ]
          },
          "metadata": {},
          "execution_count": 5
        }
      ]
    },
    {
      "cell_type": "code",
      "source": [
        "ses"
      ],
      "metadata": {
        "colab": {
          "base_uri": "https://localhost:8080/",
          "height": 224
        },
        "id": "m3BJoWIOPh71",
        "outputId": "547bdb19-c964-4809-edf5-74fbde05669a"
      },
      "execution_count": null,
      "outputs": [
        {
          "output_type": "execute_result",
          "data": {
            "text/plain": [
              "<pyspark.sql.session.SparkSession at 0x7c342813b740>"
            ],
            "text/html": [
              "\n",
              "            <div>\n",
              "                <p><b>SparkSession - in-memory</b></p>\n",
              "                \n",
              "        <div>\n",
              "            <p><b>SparkContext</b></p>\n",
              "\n",
              "            <p><a href=\"http://19a26a48bea6:4040\">Spark UI</a></p>\n",
              "\n",
              "            <dl>\n",
              "              <dt>Version</dt>\n",
              "                <dd><code>v3.5.1</code></dd>\n",
              "              <dt>Master</dt>\n",
              "                <dd><code>local[*]</code></dd>\n",
              "              <dt>AppName</dt>\n",
              "                <dd><code>caching_demo</code></dd>\n",
              "            </dl>\n",
              "        </div>\n",
              "        \n",
              "            </div>\n",
              "        "
            ]
          },
          "metadata": {},
          "execution_count": 6
        }
      ]
    },
    {
      "cell_type": "code",
      "source": [
        "df = ses.read.format('csv').option(\"header\",\"true\").option(\"inferSchema\",\"true\").load(\"/content/employee.csv\")\n",
        "df.show(5)"
      ],
      "metadata": {
        "colab": {
          "base_uri": "https://localhost:8080/"
        },
        "id": "fz-m9oN6POLh",
        "outputId": "4629b042-c891-440e-e50b-821d48bc6461"
      },
      "execution_count": null,
      "outputs": [
        {
          "output_type": "stream",
          "name": "stdout",
          "text": [
            "+---+---+------+------+-------------------+-----------------+-----------------+\n",
            "| No|Age|Gender|Salary|Monthly Expenditure|       Occupation|Healthy Lifestyle|\n",
            "+---+---+------+------+-------------------+-----------------+-----------------+\n",
            "|  1| 34|     0| 35760|              34908|          Teacher|        Moderate |\n",
            "|  2| 21|     0| 23500|              20950|          Analyst|             Good|\n",
            "|  3| 59|     1| 21000|              12080| Graphic Designer|              Bad|\n",
            "|  4| 45|     1| 45000|              34090|Software Engineer|             Good|\n",
            "|  5| 37|     0| 67050|              45780|          Manager|         Moderate|\n",
            "+---+---+------+------+-------------------+-----------------+-----------------+\n",
            "only showing top 5 rows\n",
            "\n"
          ]
        }
      ]
    },
    {
      "cell_type": "code",
      "source": [
        "# without caching\n",
        "\n",
        "df.count()   # First action\n",
        "\n",
        "df.select(\"Occupation\").distinct().show()  # Recomputes again\n"
      ],
      "metadata": {
        "colab": {
          "base_uri": "https://localhost:8080/"
        },
        "id": "w5njQKaaPxaB",
        "outputId": "bccccf5a-2c15-4224-dfa6-e631947e12cc"
      },
      "execution_count": null,
      "outputs": [
        {
          "output_type": "stream",
          "name": "stdout",
          "text": [
            "+-----------------+\n",
            "|       Occupation|\n",
            "+-----------------+\n",
            "|          Teacher|\n",
            "| Graphic Designer|\n",
            "|          Analyst|\n",
            "|          Manager|\n",
            "|Software Engineer|\n",
            "+-----------------+\n",
            "\n"
          ]
        }
      ]
    },
    {
      "cell_type": "code",
      "source": [
        "# with cache()\n",
        "df.cache()"
      ],
      "metadata": {
        "colab": {
          "base_uri": "https://localhost:8080/"
        },
        "id": "6-3v6wY3QWSM",
        "outputId": "dffc75bd-308b-4431-e540-56e85c1f6852"
      },
      "execution_count": null,
      "outputs": [
        {
          "output_type": "execute_result",
          "data": {
            "text/plain": [
              "DataFrame[No: int, Age: int, Gender: int, Salary: int, Monthly Expenditure: int, Occupation: string, Healthy Lifestyle: string]"
            ]
          },
          "metadata": {},
          "execution_count": 16
        }
      ]
    },
    {
      "cell_type": "code",
      "source": [
        "df.count()   # First action\n",
        "\n",
        "df.select(\"Occupation\").distinct().show()  # Recomputes again"
      ],
      "metadata": {
        "colab": {
          "base_uri": "https://localhost:8080/"
        },
        "id": "pQxfYYL9Ql1j",
        "outputId": "b2fcc18a-2c46-40bf-b100-6b6a5bf22e6a"
      },
      "execution_count": null,
      "outputs": [
        {
          "output_type": "stream",
          "name": "stdout",
          "text": [
            "+-----------------+\n",
            "|       Occupation|\n",
            "+-----------------+\n",
            "|          Teacher|\n",
            "| Graphic Designer|\n",
            "|          Analyst|\n",
            "|          Manager|\n",
            "|Software Engineer|\n",
            "+-----------------+\n",
            "\n"
          ]
        }
      ]
    },
    {
      "cell_type": "code",
      "source": [
        "# With persist()\n",
        "\n",
        "df.persist(StorageLevel.MEMORY_ONLY)\n",
        "df.count()\n"
      ],
      "metadata": {
        "colab": {
          "base_uri": "https://localhost:8080/"
        },
        "id": "TVW9uUIEQn_V",
        "outputId": "f568eccd-ef2c-49a5-bf61-497dff743787"
      },
      "execution_count": null,
      "outputs": [
        {
          "output_type": "execute_result",
          "data": {
            "text/plain": [
              "15"
            ]
          },
          "metadata": {},
          "execution_count": 18
        }
      ]
    },
    {
      "cell_type": "code",
      "source": [
        "from pyspark.sql import SparkSession\n",
        "import time\n",
        "spark = SparkSession.builder.appName(\"CachingBenchmark\").getOrCreate()\n",
        "\n",
        "# Simulate a large dataset\n",
        "df = spark.range(0, 100_000_000)  # 100 million rows"
      ],
      "metadata": {
        "id": "CeHfwcSPQr2Q"
      },
      "execution_count": null,
      "outputs": []
    },
    {
      "cell_type": "code",
      "source": [
        "# Transformation (simulate heavy computation)\n",
        "df_transformed = df.withColumn(\"squared\", (df[\"id\"] ** 2))\n"
      ],
      "metadata": {
        "id": "8Y5EYVoaTH_5"
      },
      "execution_count": null,
      "outputs": []
    },
    {
      "cell_type": "code",
      "source": [
        "# --- Without caching ---\n",
        "start = time.time()\n",
        "df_transformed.filter(\"squared > 500000000\").count()\n",
        "df_transformed.filter(\"squared < 1000\").count()\n",
        "print(\"Time without cache:\", time.time() - start)\n",
        "\n",
        "# --- With caching ---\n",
        "df_transformed.cache()  # or df_transformed.persist()\n",
        "df_transformed.count()  # trigger caching\n",
        "\n",
        "start = time.time()\n",
        "df_transformed.filter(\"squared > 500000000\").count()\n",
        "df_transformed.filter(\"squared < 1000\").count()\n",
        "print(\"Time with cache:\", time.time() - start)\n"
      ],
      "metadata": {
        "colab": {
          "base_uri": "https://localhost:8080/"
        },
        "id": "MlwOfISvTKif",
        "outputId": "029d22da-da9a-473a-e459-bca8e6cfa8fd"
      },
      "execution_count": null,
      "outputs": [
        {
          "output_type": "stream",
          "name": "stdout",
          "text": [
            "Time without cache: 11.28271770477295\n",
            "Time with cache: 7.267090797424316\n"
          ]
        }
      ]
    },
    {
      "cell_type": "code",
      "source": [
        "# unpersist\n",
        "\n",
        "df_transformed.unpersist()"
      ],
      "metadata": {
        "colab": {
          "base_uri": "https://localhost:8080/"
        },
        "id": "CCN9VXJsTMth",
        "outputId": "db2fd2de-36d9-4ba8-d5a1-822410156218"
      },
      "execution_count": null,
      "outputs": [
        {
          "output_type": "execute_result",
          "data": {
            "text/plain": [
              "DataFrame[id: bigint, squared: double]"
            ]
          },
          "metadata": {},
          "execution_count": 23
        }
      ]
    },
    {
      "cell_type": "markdown",
      "source": [
        "### different storage levels"
      ],
      "metadata": {
        "id": "S1dT4sD3eUfb"
      }
    },
    {
      "cell_type": "code",
      "source": [
        "df.persist(StorageLevel.MEMORY_ONLY)"
      ],
      "metadata": {
        "colab": {
          "base_uri": "https://localhost:8080/"
        },
        "id": "9An2IyqAb85A",
        "outputId": "acc5b16d-89b4-48a7-a89e-2b60618567a5"
      },
      "execution_count": null,
      "outputs": [
        {
          "output_type": "execute_result",
          "data": {
            "text/plain": [
              "DataFrame[id: bigint]"
            ]
          },
          "metadata": {},
          "execution_count": 24
        }
      ]
    },
    {
      "cell_type": "code",
      "source": [
        "df.cache()  # Same as df.persist(StorageLevel.MEMORY_AND_DISK)"
      ],
      "metadata": {
        "colab": {
          "base_uri": "https://localhost:8080/"
        },
        "id": "b2aMW1KIb9tE",
        "outputId": "b5e5c079-b6c7-4e50-bf9d-f390c399377c"
      },
      "execution_count": null,
      "outputs": [
        {
          "output_type": "execute_result",
          "data": {
            "text/plain": [
              "DataFrame[id: bigint]"
            ]
          },
          "metadata": {},
          "execution_count": 25
        }
      ]
    },
    {
      "cell_type": "code",
      "source": [
        "df.persist(StorageLevel.DISK_ONLY)"
      ],
      "metadata": {
        "colab": {
          "base_uri": "https://localhost:8080/"
        },
        "id": "-rBQ9OS6cTGb",
        "outputId": "ce7c4fdb-595a-4ac9-b79a-c0c8abb43200"
      },
      "execution_count": null,
      "outputs": [
        {
          "output_type": "execute_result",
          "data": {
            "text/plain": [
              "DataFrame[id: bigint]"
            ]
          },
          "metadata": {},
          "execution_count": 26
        }
      ]
    },
    {
      "cell_type": "code",
      "source": [
        "# df.persist(StorageLevel.MEMORY_ONLY_SER)\n",
        "\n",
        "# df.persist(StorageLevel.MEMORY_AND_DISK_SER)"
      ],
      "metadata": {
        "id": "pT4yx0DLeKXY"
      },
      "execution_count": null,
      "outputs": []
    },
    {
      "cell_type": "code",
      "source": [
        "df.persist(StorageLevel.OFF_HEAP)"
      ],
      "metadata": {
        "colab": {
          "base_uri": "https://localhost:8080/"
        },
        "id": "uC-TCWmreQnM",
        "outputId": "8b587ec0-b702-4af7-d20d-d583e8ef223e"
      },
      "execution_count": null,
      "outputs": [
        {
          "output_type": "execute_result",
          "data": {
            "text/plain": [
              "DataFrame[id: bigint]"
            ]
          },
          "metadata": {},
          "execution_count": 29
        }
      ]
    },
    {
      "cell_type": "code",
      "source": [],
      "metadata": {
        "id": "3b7DAoc0efL4"
      },
      "execution_count": null,
      "outputs": []
    }
  ]
}