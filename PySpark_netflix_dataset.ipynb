{
  "nbformat": 4,
  "nbformat_minor": 0,
  "metadata": {
    "colab": {
      "provenance": [],
      "authorship_tag": "ABX9TyPHBsvhH7PECwsoC56DYnGg",
      "include_colab_link": true
    },
    "kernelspec": {
      "name": "python3",
      "display_name": "Python 3"
    },
    "language_info": {
      "name": "python"
    }
  },
  "cells": [
    {
      "cell_type": "markdown",
      "metadata": {
        "id": "view-in-github",
        "colab_type": "text"
      },
      "source": [
        "<a href=\"https://colab.research.google.com/github/rani-sikdar/PySpark/blob/main/PySpark_netflix_dataset.ipynb\" target=\"_parent\"><img src=\"https://colab.research.google.com/assets/colab-badge.svg\" alt=\"Open In Colab\"/></a>"
      ]
    },
    {
      "cell_type": "code",
      "execution_count": 1,
      "metadata": {
        "colab": {
          "base_uri": "https://localhost:8080/",
          "height": 224
        },
        "id": "KI5D2onvLWKr",
        "outputId": "64b138bc-b656-4406-ddd6-e038f3b8e675"
      },
      "outputs": [
        {
          "output_type": "execute_result",
          "data": {
            "text/plain": [
              "<pyspark.sql.session.SparkSession at 0x7b08115188c0>"
            ],
            "text/html": [
              "\n",
              "            <div>\n",
              "                <p><b>SparkSession - in-memory</b></p>\n",
              "                \n",
              "        <div>\n",
              "            <p><b>SparkContext</b></p>\n",
              "\n",
              "            <p><a href=\"http://483813c6b40b:4040\">Spark UI</a></p>\n",
              "\n",
              "            <dl>\n",
              "              <dt>Version</dt>\n",
              "                <dd><code>v3.5.1</code></dd>\n",
              "              <dt>Master</dt>\n",
              "                <dd><code>local[*]</code></dd>\n",
              "              <dt>AppName</dt>\n",
              "                <dd><code>demo</code></dd>\n",
              "            </dl>\n",
              "        </div>\n",
              "        \n",
              "            </div>\n",
              "        "
            ]
          },
          "metadata": {},
          "execution_count": 1
        }
      ],
      "source": [
        "from pyspark.sql import SparkSession\n",
        "session = SparkSession.builder.appName('demo').getOrCreate()\n",
        "session"
      ]
    },
    {
      "cell_type": "code",
      "source": [
        "movies_df = session.read.format(\"csv\").option(\"header\",\"true\").option(\"inferSchema\", \"true\").load(\"/content/netflix_titles.csv\")"
      ],
      "metadata": {
        "id": "QrkczNRBLWvB"
      },
      "execution_count": 2,
      "outputs": []
    },
    {
      "cell_type": "code",
      "source": [
        "movies_df.show(5)"
      ],
      "metadata": {
        "colab": {
          "base_uri": "https://localhost:8080/"
        },
        "id": "j8OJzy4vAd6U",
        "outputId": "0eb7619d-da1f-40a3-d3a1-e1f8e9b9c8e7"
      },
      "execution_count": 3,
      "outputs": [
        {
          "output_type": "stream",
          "name": "stdout",
          "text": [
            "+-------+-------+-----+-----------------+--------------------+-------------+-----------------+------------+------+---------+--------------------+--------------------+\n",
            "|show_id|   type|title|         director|                cast|      country|       date_added|release_year|rating| duration|           listed_in|         description|\n",
            "+-------+-------+-----+-----------------+--------------------+-------------+-----------------+------------+------+---------+--------------------+--------------------+\n",
            "|     s1|TV Show|   3%|             NULL|João Miguel, Bian...|       Brazil|  August 14, 2020|        2020| TV-MA|4 Seasons|International TV ...|In a future where...|\n",
            "|     s2|  Movie| 7:19|Jorge Michel Grau|Demián Bichir, Hé...|       Mexico|December 23, 2016|        2016| TV-MA|   93 min|Dramas, Internati...|After a devastati...|\n",
            "|     s3|  Movie|23:59|     Gilbert Chan|Tedd Chan, Stella...|    Singapore|December 20, 2018|        2011|     R|   78 min|Horror Movies, In...|When an army recr...|\n",
            "|     s4|  Movie|    9|      Shane Acker|Elijah Wood, John...|United States|November 16, 2017|        2009| PG-13|   80 min|Action & Adventur...|In a postapocalyp...|\n",
            "|     s5|  Movie|   21|   Robert Luketic|Jim Sturgess, Kev...|United States|  January 1, 2020|        2008| PG-13|  123 min|              Dramas|A brilliant group...|\n",
            "+-------+-------+-----+-----------------+--------------------+-------------+-----------------+------------+------+---------+--------------------+--------------------+\n",
            "only showing top 5 rows\n",
            "\n"
          ]
        }
      ]
    },
    {
      "cell_type": "code",
      "source": [
        "movies_df.printSchema()"
      ],
      "metadata": {
        "colab": {
          "base_uri": "https://localhost:8080/"
        },
        "id": "5awL_lpQAg4c",
        "outputId": "4c63239b-928c-47b1-94ec-d761163735ec"
      },
      "execution_count": 4,
      "outputs": [
        {
          "output_type": "stream",
          "name": "stdout",
          "text": [
            "root\n",
            " |-- show_id: string (nullable = true)\n",
            " |-- type: string (nullable = true)\n",
            " |-- title: string (nullable = true)\n",
            " |-- director: string (nullable = true)\n",
            " |-- cast: string (nullable = true)\n",
            " |-- country: string (nullable = true)\n",
            " |-- date_added: string (nullable = true)\n",
            " |-- release_year: string (nullable = true)\n",
            " |-- rating: string (nullable = true)\n",
            " |-- duration: string (nullable = true)\n",
            " |-- listed_in: string (nullable = true)\n",
            " |-- description: string (nullable = true)\n",
            "\n"
          ]
        }
      ]
    },
    {
      "cell_type": "code",
      "source": [
        "df1= movies_df.select(\"title\", \"release_year\", \"cast\", \"rating\")\n",
        "df1.show(10)"
      ],
      "metadata": {
        "colab": {
          "base_uri": "https://localhost:8080/"
        },
        "id": "NyGA974ULWxn",
        "outputId": "11049b3f-eeb1-4b30-b42c-c7f0e74dee83"
      },
      "execution_count": 5,
      "outputs": [
        {
          "output_type": "stream",
          "name": "stdout",
          "text": [
            "+-----+------------+--------------------+------+\n",
            "|title|release_year|                cast|rating|\n",
            "+-----+------------+--------------------+------+\n",
            "|   3%|        2020|João Miguel, Bian...| TV-MA|\n",
            "| 7:19|        2016|Demián Bichir, Hé...| TV-MA|\n",
            "|23:59|        2011|Tedd Chan, Stella...|     R|\n",
            "|    9|        2009|Elijah Wood, John...| PG-13|\n",
            "|   21|        2008|Jim Sturgess, Kev...| PG-13|\n",
            "|   46|        2016|Erdal Beşikçioğlu...| TV-MA|\n",
            "|  122|        2019|Amina Khalil, Ahm...| TV-MA|\n",
            "|  187|        1997|Samuel L. Jackson...|     R|\n",
            "|  706|        2019|Divya Dutta, Atul...| TV-14|\n",
            "| 1920|        2008|Rajneesh Duggal, ...| TV-MA|\n",
            "+-----+------------+--------------------+------+\n",
            "only showing top 10 rows\n",
            "\n"
          ]
        }
      ]
    },
    {
      "cell_type": "code",
      "source": [
        "df1.printSchema()"
      ],
      "metadata": {
        "colab": {
          "base_uri": "https://localhost:8080/"
        },
        "id": "8tEsO6wYLW0U",
        "outputId": "fa2df31b-7332-45d9-b05b-fc0746802de4"
      },
      "execution_count": 6,
      "outputs": [
        {
          "output_type": "stream",
          "name": "stdout",
          "text": [
            "root\n",
            " |-- title: string (nullable = true)\n",
            " |-- release_year: string (nullable = true)\n",
            " |-- cast: string (nullable = true)\n",
            " |-- rating: string (nullable = true)\n",
            "\n"
          ]
        }
      ]
    },
    {
      "cell_type": "code",
      "source": [
        "df2 = movies_df.withColumn(\"year\", movies_df['release_year'].cast('int'))\n",
        "df2.show(5)"
      ],
      "metadata": {
        "colab": {
          "base_uri": "https://localhost:8080/"
        },
        "id": "ivuZbY7iLW3T",
        "outputId": "2ff1adc4-6807-4f37-8f55-3b551a69b0fa"
      },
      "execution_count": 7,
      "outputs": [
        {
          "output_type": "stream",
          "name": "stdout",
          "text": [
            "+-------+-------+-----+-----------------+--------------------+-------------+-----------------+------------+------+---------+--------------------+--------------------+----+\n",
            "|show_id|   type|title|         director|                cast|      country|       date_added|release_year|rating| duration|           listed_in|         description|year|\n",
            "+-------+-------+-----+-----------------+--------------------+-------------+-----------------+------------+------+---------+--------------------+--------------------+----+\n",
            "|     s1|TV Show|   3%|             NULL|João Miguel, Bian...|       Brazil|  August 14, 2020|        2020| TV-MA|4 Seasons|International TV ...|In a future where...|2020|\n",
            "|     s2|  Movie| 7:19|Jorge Michel Grau|Demián Bichir, Hé...|       Mexico|December 23, 2016|        2016| TV-MA|   93 min|Dramas, Internati...|After a devastati...|2016|\n",
            "|     s3|  Movie|23:59|     Gilbert Chan|Tedd Chan, Stella...|    Singapore|December 20, 2018|        2011|     R|   78 min|Horror Movies, In...|When an army recr...|2011|\n",
            "|     s4|  Movie|    9|      Shane Acker|Elijah Wood, John...|United States|November 16, 2017|        2009| PG-13|   80 min|Action & Adventur...|In a postapocalyp...|2009|\n",
            "|     s5|  Movie|   21|   Robert Luketic|Jim Sturgess, Kev...|United States|  January 1, 2020|        2008| PG-13|  123 min|              Dramas|A brilliant group...|2008|\n",
            "+-------+-------+-----+-----------------+--------------------+-------------+-----------------+------------+------+---------+--------------------+--------------------+----+\n",
            "only showing top 5 rows\n",
            "\n"
          ]
        }
      ]
    },
    {
      "cell_type": "code",
      "source": [
        "df2 = df2.drop('release_year')\n",
        "df2.show(5)"
      ],
      "metadata": {
        "colab": {
          "base_uri": "https://localhost:8080/"
        },
        "id": "JX4gXPl7LW6C",
        "outputId": "f1599efd-a5bb-4397-875d-d5a456f5846c"
      },
      "execution_count": 8,
      "outputs": [
        {
          "output_type": "stream",
          "name": "stdout",
          "text": [
            "+-------+-------+-----+-----------------+--------------------+-------------+-----------------+------+---------+--------------------+--------------------+----+\n",
            "|show_id|   type|title|         director|                cast|      country|       date_added|rating| duration|           listed_in|         description|year|\n",
            "+-------+-------+-----+-----------------+--------------------+-------------+-----------------+------+---------+--------------------+--------------------+----+\n",
            "|     s1|TV Show|   3%|             NULL|João Miguel, Bian...|       Brazil|  August 14, 2020| TV-MA|4 Seasons|International TV ...|In a future where...|2020|\n",
            "|     s2|  Movie| 7:19|Jorge Michel Grau|Demián Bichir, Hé...|       Mexico|December 23, 2016| TV-MA|   93 min|Dramas, Internati...|After a devastati...|2016|\n",
            "|     s3|  Movie|23:59|     Gilbert Chan|Tedd Chan, Stella...|    Singapore|December 20, 2018|     R|   78 min|Horror Movies, In...|When an army recr...|2011|\n",
            "|     s4|  Movie|    9|      Shane Acker|Elijah Wood, John...|United States|November 16, 2017| PG-13|   80 min|Action & Adventur...|In a postapocalyp...|2009|\n",
            "|     s5|  Movie|   21|   Robert Luketic|Jim Sturgess, Kev...|United States|  January 1, 2020| PG-13|  123 min|              Dramas|A brilliant group...|2008|\n",
            "+-------+-------+-----+-----------------+--------------------+-------------+-----------------+------+---------+--------------------+--------------------+----+\n",
            "only showing top 5 rows\n",
            "\n"
          ]
        }
      ]
    },
    {
      "cell_type": "code",
      "source": [
        "df2.printSchema()"
      ],
      "metadata": {
        "colab": {
          "base_uri": "https://localhost:8080/"
        },
        "id": "yLXayMEaLW82",
        "outputId": "96a81bb7-2316-4abd-dc8d-77f36587d405"
      },
      "execution_count": 9,
      "outputs": [
        {
          "output_type": "stream",
          "name": "stdout",
          "text": [
            "root\n",
            " |-- show_id: string (nullable = true)\n",
            " |-- type: string (nullable = true)\n",
            " |-- title: string (nullable = true)\n",
            " |-- director: string (nullable = true)\n",
            " |-- cast: string (nullable = true)\n",
            " |-- country: string (nullable = true)\n",
            " |-- date_added: string (nullable = true)\n",
            " |-- rating: string (nullable = true)\n",
            " |-- duration: string (nullable = true)\n",
            " |-- listed_in: string (nullable = true)\n",
            " |-- description: string (nullable = true)\n",
            " |-- year: integer (nullable = true)\n",
            "\n"
          ]
        }
      ]
    },
    {
      "cell_type": "code",
      "source": [
        "df2.filter(df2.year > 2010).show(5)"
      ],
      "metadata": {
        "colab": {
          "base_uri": "https://localhost:8080/"
        },
        "id": "xfzOgNplDbFO",
        "outputId": "981c161c-b244-41c0-f957-ab49d124e473"
      },
      "execution_count": 10,
      "outputs": [
        {
          "output_type": "stream",
          "name": "stdout",
          "text": [
            "+-------+-------+-----+-----------------+--------------------+---------+-----------------+------+---------+--------------------+--------------------+----+\n",
            "|show_id|   type|title|         director|                cast|  country|       date_added|rating| duration|           listed_in|         description|year|\n",
            "+-------+-------+-----+-----------------+--------------------+---------+-----------------+------+---------+--------------------+--------------------+----+\n",
            "|     s1|TV Show|   3%|             NULL|João Miguel, Bian...|   Brazil|  August 14, 2020| TV-MA|4 Seasons|International TV ...|In a future where...|2020|\n",
            "|     s2|  Movie| 7:19|Jorge Michel Grau|Demián Bichir, Hé...|   Mexico|December 23, 2016| TV-MA|   93 min|Dramas, Internati...|After a devastati...|2016|\n",
            "|     s3|  Movie|23:59|     Gilbert Chan|Tedd Chan, Stella...|Singapore|December 20, 2018|     R|   78 min|Horror Movies, In...|When an army recr...|2011|\n",
            "|     s6|TV Show|   46|      Serdar Akar|Erdal Beşikçioğlu...|   Turkey|     July 1, 2017| TV-MA| 1 Season|International TV ...|A genetics profes...|2016|\n",
            "|     s7|  Movie|  122|  Yasir Al Yasiri|Amina Khalil, Ahm...|    Egypt|     June 1, 2020| TV-MA|   95 min|Horror Movies, In...|After an awful ac...|2019|\n",
            "+-------+-------+-----+-----------------+--------------------+---------+-----------------+------+---------+--------------------+--------------------+----+\n",
            "only showing top 5 rows\n",
            "\n"
          ]
        }
      ]
    },
    {
      "cell_type": "code",
      "source": [
        "df2.filter(df2.year > 2010).count()"
      ],
      "metadata": {
        "colab": {
          "base_uri": "https://localhost:8080/"
        },
        "id": "s8dYPGj2LW_c",
        "outputId": "7dd5d501-c544-4825-9f85-8c9fe05d3b6e"
      },
      "execution_count": 11,
      "outputs": [
        {
          "output_type": "execute_result",
          "data": {
            "text/plain": [
              "6426"
            ]
          },
          "metadata": {},
          "execution_count": 11
        }
      ]
    },
    {
      "cell_type": "markdown",
      "source": [
        "## sql"
      ],
      "metadata": {
        "id": "S3Eg8SrGDiNT"
      }
    },
    {
      "cell_type": "code",
      "source": [
        "from pyspark.sql.functions import min, max\n",
        "df2.select(min('year')).show(5)"
      ],
      "metadata": {
        "colab": {
          "base_uri": "https://localhost:8080/"
        },
        "id": "hO9_4nUzDVu-",
        "outputId": "d3797b6d-7c72-405f-c554-d60492eddc61"
      },
      "execution_count": 14,
      "outputs": [
        {
          "output_type": "stream",
          "name": "stdout",
          "text": [
            "+---------+\n",
            "|min(year)|\n",
            "+---------+\n",
            "|     1925|\n",
            "+---------+\n",
            "\n"
          ]
        }
      ]
    },
    {
      "cell_type": "code",
      "source": [
        "df2.select(max('year')).show(5)"
      ],
      "metadata": {
        "colab": {
          "base_uri": "https://localhost:8080/"
        },
        "id": "-VDyLOUj3GSF",
        "outputId": "0736430e-45af-444d-b8ce-69c14b5f7587"
      },
      "execution_count": 15,
      "outputs": [
        {
          "output_type": "stream",
          "name": "stdout",
          "text": [
            "+---------+\n",
            "|max(year)|\n",
            "+---------+\n",
            "|     2021|\n",
            "+---------+\n",
            "\n"
          ]
        }
      ]
    },
    {
      "cell_type": "code",
      "source": [
        "df2.filter(df2.year == 2020).count()"
      ],
      "metadata": {
        "colab": {
          "base_uri": "https://localhost:8080/"
        },
        "id": "WoYg8Q7t4E88",
        "outputId": "f93c7bd3-b808-462f-d869-85416894b750"
      },
      "execution_count": 17,
      "outputs": [
        {
          "output_type": "execute_result",
          "data": {
            "text/plain": [
              "867"
            ]
          },
          "metadata": {},
          "execution_count": 17
        }
      ]
    },
    {
      "cell_type": "code",
      "source": [
        "df2.filter(df2.year == 2020).show(7)"
      ],
      "metadata": {
        "colab": {
          "base_uri": "https://localhost:8080/"
        },
        "id": "gom3L-J14PCX",
        "outputId": "ccb8e84d-a074-476f-88f5-0afad9b4a425"
      },
      "execution_count": 19,
      "outputs": [
        {
          "output_type": "stream",
          "name": "stdout",
          "text": [
            "+-------+-------+--------------------+----------------+--------------------+-------------+-----------------+------+---------+--------------------+--------------------+----+\n",
            "|show_id|   type|               title|        director|                cast|      country|       date_added|rating| duration|           listed_in|         description|year|\n",
            "+-------+-------+--------------------+----------------+--------------------+-------------+-----------------+------+---------+--------------------+--------------------+----+\n",
            "|     s1|TV Show|                  3%|            NULL|João Miguel, Bian...|       Brazil|  August 14, 2020| TV-MA|4 Seasons|International TV ...|In a future where...|2020|\n",
            "|    s25|TV Show|​SAINT SEIYA: Kni...|            NULL|Bryson Baugus, Em...|        Japan| January 23, 2020| TV-14|2 Seasons|Anime Series, Int...|Seiya and the Kni...|2020|\n",
            "|    s27|TV Show|            (Un)Well|            NULL|                NULL|United States|  August 12, 2020| TV-MA| 1 Season|          Reality TV|This docuseries t...|2020|\n",
            "|    s28|  Movie|              #Alive|          Cho Il|Yoo Ah-in, Park S...|  South Korea|September 8, 2020| TV-MA|   99 min|Horror Movies, In...|As a grisly virus...|2020|\n",
            "|    s30|TV Show|            #blackAF|            NULL|Kenya Barris, Ras...|United States|   April 17, 2020| TV-MA| 1 Season|         TV Comedies|Kenya Barris and ...|2020|\n",
            "|    s31|  Movie|    #cats_the_mewvie|Michael Margolis|                NULL|       Canada| February 5, 2020| TV-14|   90 min|Documentaries, In...|This pawesome doc...|2020|\n",
            "|    s33|  Movie| #FriendButMarried 2|   Rako Prijanto|Adipati Dolken, M...|    Indonesia|    June 28, 2020|  TV-G|  104 min|Dramas, Internati...|As Ayu and Ditto ...|2020|\n",
            "+-------+-------+--------------------+----------------+--------------------+-------------+-----------------+------+---------+--------------------+--------------------+----+\n",
            "only showing top 7 rows\n",
            "\n"
          ]
        }
      ]
    },
    {
      "cell_type": "code",
      "source": [
        "df2.filter('year == 2020 and country is not NULL').show(5)"
      ],
      "metadata": {
        "colab": {
          "base_uri": "https://localhost:8080/"
        },
        "id": "yKHW1AIs4UO7",
        "outputId": "8b2aef85-c955-4e2c-bfec-ebec33633b95"
      },
      "execution_count": 20,
      "outputs": [
        {
          "output_type": "stream",
          "name": "stdout",
          "text": [
            "+-------+-------+--------------------+--------+--------------------+-------------+-----------------+------+---------+--------------------+--------------------+----+\n",
            "|show_id|   type|               title|director|                cast|      country|       date_added|rating| duration|           listed_in|         description|year|\n",
            "+-------+-------+--------------------+--------+--------------------+-------------+-----------------+------+---------+--------------------+--------------------+----+\n",
            "|     s1|TV Show|                  3%|    NULL|João Miguel, Bian...|       Brazil|  August 14, 2020| TV-MA|4 Seasons|International TV ...|In a future where...|2020|\n",
            "|    s25|TV Show|​SAINT SEIYA: Kni...|    NULL|Bryson Baugus, Em...|        Japan| January 23, 2020| TV-14|2 Seasons|Anime Series, Int...|Seiya and the Kni...|2020|\n",
            "|    s27|TV Show|            (Un)Well|    NULL|                NULL|United States|  August 12, 2020| TV-MA| 1 Season|          Reality TV|This docuseries t...|2020|\n",
            "|    s28|  Movie|              #Alive|  Cho Il|Yoo Ah-in, Park S...|  South Korea|September 8, 2020| TV-MA|   99 min|Horror Movies, In...|As a grisly virus...|2020|\n",
            "|    s30|TV Show|            #blackAF|    NULL|Kenya Barris, Ras...|United States|   April 17, 2020| TV-MA| 1 Season|         TV Comedies|Kenya Barris and ...|2020|\n",
            "+-------+-------+--------------------+--------+--------------------+-------------+-----------------+------+---------+--------------------+--------------------+----+\n",
            "only showing top 5 rows\n",
            "\n"
          ]
        }
      ]
    },
    {
      "cell_type": "code",
      "source": [
        "from pyspark.sql.functions import count, col, asc ,desc"
      ],
      "metadata": {
        "id": "ftPBz6Vk4djv"
      },
      "execution_count": 22,
      "outputs": []
    },
    {
      "cell_type": "code",
      "source": [
        "tt = df2.filter(df2.country == 'India').count()\n",
        "tt"
      ],
      "metadata": {
        "colab": {
          "base_uri": "https://localhost:8080/"
        },
        "id": "Y84yaX9D4m2I",
        "outputId": "ec7fa4e9-304e-4d3a-c298-161cbfd43704"
      },
      "execution_count": 24,
      "outputs": [
        {
          "output_type": "execute_result",
          "data": {
            "text/plain": [
              "923"
            ]
          },
          "metadata": {},
          "execution_count": 24
        }
      ]
    },
    {
      "cell_type": "code",
      "source": [
        "qq = df2.groupBy(df2.country).count()\n",
        "qq.show(5)"
      ],
      "metadata": {
        "colab": {
          "base_uri": "https://localhost:8080/"
        },
        "id": "I0zIPK024vaY",
        "outputId": "777fbd97-e202-4c43-9ee3-4c7411bb5c7d"
      },
      "execution_count": 27,
      "outputs": [
        {
          "output_type": "stream",
          "name": "stdout",
          "text": [
            "+--------------------+-----+\n",
            "|             country|count|\n",
            "+--------------------+-----+\n",
            "|Peru, United Stat...|    1|\n",
            "|      India, Germany|    2|\n",
            "|Japan, Canada, Un...|    1|\n",
            "|United Kingdom, C...|    1|\n",
            "|South Africa, Uni...|    1|\n",
            "+--------------------+-----+\n",
            "only showing top 5 rows\n",
            "\n"
          ]
        }
      ]
    },
    {
      "cell_type": "code",
      "source": [
        "qq.orderBy(col('count').desc()).show(5)"
      ],
      "metadata": {
        "colab": {
          "base_uri": "https://localhost:8080/"
        },
        "id": "USpyfSWX45tf",
        "outputId": "8bb613c3-456a-47fa-fdf1-4439e087b98f"
      },
      "execution_count": 29,
      "outputs": [
        {
          "output_type": "stream",
          "name": "stdout",
          "text": [
            "+--------------+-----+\n",
            "|       country|count|\n",
            "+--------------+-----+\n",
            "| United States| 2543|\n",
            "|         India|  923|\n",
            "|          NULL|  509|\n",
            "|United Kingdom|  397|\n",
            "|         Japan|  226|\n",
            "+--------------+-----+\n",
            "only showing top 5 rows\n",
            "\n"
          ]
        }
      ]
    },
    {
      "cell_type": "code",
      "source": [
        "a = df2.filter('country == \"United States\"').count()\n",
        "b = df2.filter(df2['country'].isin('United States')).count()\n",
        "c = df2.filter(df2['country'].contains('United States')).count()\n",
        "\n",
        "d = df2.filter(~df2['country'].isin('United States')).count()\n",
        "e = df2.filter(~df2['country'].contains('United States')).count()\n",
        "\n",
        "a, b, c, d, e"
      ],
      "metadata": {
        "colab": {
          "base_uri": "https://localhost:8080/"
        },
        "id": "xt8fDAmw5J0n",
        "outputId": "c9d5bc91-298a-4522-9b1d-24df05c80f4b"
      },
      "execution_count": 30,
      "outputs": [
        {
          "output_type": "execute_result",
          "data": {
            "text/plain": [
              "(2543, 2543, 3285, 4737, 3995)"
            ]
          },
          "metadata": {},
          "execution_count": 30
        }
      ]
    },
    {
      "cell_type": "code",
      "source": [
        "df2.createOrReplaceTempView('movies_temp')"
      ],
      "metadata": {
        "id": "ARrsJtFW5l2o"
      },
      "execution_count": 31,
      "outputs": []
    },
    {
      "cell_type": "code",
      "source": [
        "session.sql('select * from movies_temp limit 5').show()"
      ],
      "metadata": {
        "colab": {
          "base_uri": "https://localhost:8080/"
        },
        "id": "3cLzDbIO7iIJ",
        "outputId": "24cca568-2c38-42c1-943c-6fe37dd63ed3"
      },
      "execution_count": 35,
      "outputs": [
        {
          "output_type": "stream",
          "name": "stdout",
          "text": [
            "+-------+-------+-----+-----------------+--------------------+-------------+-----------------+------+---------+--------------------+--------------------+----+\n",
            "|show_id|   type|title|         director|                cast|      country|       date_added|rating| duration|           listed_in|         description|year|\n",
            "+-------+-------+-----+-----------------+--------------------+-------------+-----------------+------+---------+--------------------+--------------------+----+\n",
            "|     s1|TV Show|   3%|             NULL|João Miguel, Bian...|       Brazil|  August 14, 2020| TV-MA|4 Seasons|International TV ...|In a future where...|2020|\n",
            "|     s2|  Movie| 7:19|Jorge Michel Grau|Demián Bichir, Hé...|       Mexico|December 23, 2016| TV-MA|   93 min|Dramas, Internati...|After a devastati...|2016|\n",
            "|     s3|  Movie|23:59|     Gilbert Chan|Tedd Chan, Stella...|    Singapore|December 20, 2018|     R|   78 min|Horror Movies, In...|When an army recr...|2011|\n",
            "|     s4|  Movie|    9|      Shane Acker|Elijah Wood, John...|United States|November 16, 2017| PG-13|   80 min|Action & Adventur...|In a postapocalyp...|2009|\n",
            "|     s5|  Movie|   21|   Robert Luketic|Jim Sturgess, Kev...|United States|  January 1, 2020| PG-13|  123 min|              Dramas|A brilliant group...|2008|\n",
            "+-------+-------+-----+-----------------+--------------------+-------------+-----------------+------+---------+--------------------+--------------------+----+\n",
            "\n"
          ]
        }
      ]
    },
    {
      "cell_type": "code",
      "source": [
        "session.sql(\"\"\"select country, count(*) as qtd\n",
        "from movies_temp\n",
        "group by country\n",
        "order by qtd desc\"\"\").show(truncate=False)"
      ],
      "metadata": {
        "colab": {
          "base_uri": "https://localhost:8080/"
        },
        "id": "6Yn7H50o7pHZ",
        "outputId": "06f3495f-a70a-4e57-ac1f-44410a79a831"
      },
      "execution_count": 36,
      "outputs": [
        {
          "output_type": "stream",
          "name": "stdout",
          "text": [
            "+-----------------------------+----+\n",
            "|country                      |qtd |\n",
            "+-----------------------------+----+\n",
            "|United States                |2543|\n",
            "|India                        |923 |\n",
            "|NULL                         |509 |\n",
            "|United Kingdom               |397 |\n",
            "|Japan                        |226 |\n",
            "|South Korea                  |183 |\n",
            "|Canada                       |177 |\n",
            "|Spain                        |134 |\n",
            "|France                       |114 |\n",
            "|Egypt                        |101 |\n",
            "|Turkey                       |100 |\n",
            "|Mexico                       |100 |\n",
            "|Australia                    |83  |\n",
            "|Taiwan                       |78  |\n",
            "|Brazil                       |72  |\n",
            "|Philippines                  |71  |\n",
            "|Nigeria                      |70  |\n",
            "|Indonesia                    |70  |\n",
            "|United Kingdom, United States|64  |\n",
            "|Germany                      |61  |\n",
            "+-----------------------------+----+\n",
            "only showing top 20 rows\n",
            "\n"
          ]
        }
      ]
    },
    {
      "cell_type": "code",
      "source": [
        "rating_df = session.read.format(\"csv\").option(\"header\", \"true\").load(\"/content/netflix_rating.csv\")\n",
        "rating_df.printSchema()"
      ],
      "metadata": {
        "colab": {
          "base_uri": "https://localhost:8080/"
        },
        "id": "LxAtQoBY8CPS",
        "outputId": "5422b783-89f8-4c47-9840-a17ca81afdf4"
      },
      "execution_count": 37,
      "outputs": [
        {
          "output_type": "stream",
          "name": "stdout",
          "text": [
            "root\n",
            " |-- rating: string (nullable = true)\n",
            " |-- ratingLevel: string (nullable = true)\n",
            "\n"
          ]
        }
      ]
    },
    {
      "cell_type": "code",
      "source": [
        "rating_df.show(5)"
      ],
      "metadata": {
        "colab": {
          "base_uri": "https://localhost:8080/"
        },
        "id": "bjrXJa4b8e96",
        "outputId": "8b2879d1-8029-4db7-c9e7-50e220c0dc90"
      },
      "execution_count": 38,
      "outputs": [
        {
          "output_type": "stream",
          "name": "stdout",
          "text": [
            "+------+--------------------+\n",
            "|rating|         ratingLevel|\n",
            "+------+--------------------+\n",
            "| PG-13|crude and sexual ...|\n",
            "|     R|strong violence |...|\n",
            "| TV-14|Parents strongly ...|\n",
            "| TV-PG|Parental guidance...|\n",
            "| TV-MA|For mature audien...|\n",
            "+------+--------------------+\n",
            "only showing top 5 rows\n",
            "\n"
          ]
        }
      ]
    },
    {
      "cell_type": "code",
      "source": [
        "res = movies_df.join(rating_df, movies_df.rating == rating_df.rating, 'inner')\\\n",
        "    .select(movies_df.title, movies_df.country, movies_df.release_year, rating_df.ratingLevel) \\\n",
        "    .filter(movies_df['country'].contains('Brazil')) \\\n",
        "    .filter(movies_df['country'].contains('France')) \\\n",
        "    .sort(movies_df.release_year.desc())\n",
        "\n",
        "res.show(200, truncate=True)"
      ],
      "metadata": {
        "colab": {
          "base_uri": "https://localhost:8080/"
        },
        "id": "GQ6S4sOv8o00",
        "outputId": "7c87d1cf-357a-41d4-8128-eb4b0ba08563"
      },
      "execution_count": 39,
      "outputs": [
        {
          "output_type": "stream",
          "name": "stdout",
          "text": [
            "+--------------------+--------------------+------------+--------------------+\n",
            "|               title|             country|release_year|         ratingLevel|\n",
            "+--------------------+--------------------+------------+--------------------+\n",
            "|     Shine Your Eyes|      Brazil, France|        2020|For mature audien...|\n",
            "|        Wasp Network|France, Brazil, S...|        2020|For mature audien...|\n",
            "|    A Sort of Family|Argentina, Brazil...|        2017|Parents strongly ...|\n",
            "|Gabriel and the M...|      Brazil, France|        2017|For mature audien...|\n",
            "|  Olmo & the Seagull|Denmark, Brazil, ...|        2014|For mature audien...|\n",
            "|         City of God|Brazil, France, G...|        2002|strong violence |...|\n",
            "+--------------------+--------------------+------------+--------------------+\n",
            "\n"
          ]
        }
      ]
    }
  ]
}